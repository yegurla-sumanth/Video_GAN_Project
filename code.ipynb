{
  "cells": [
    {
      "cell_type": "code",
      "execution_count": null,
      "metadata": {
        "colab": {
          "base_uri": "https://localhost:8080/"
        },
        "id": "ZRg6pxrDZ91X",
        "outputId": "df3fa47b-3e5f-4eb7-d942-291304bf1641"
      },
      "outputs": [
        {
          "name": "stdout",
          "output_type": "stream",
          "text": [
            "Mounted at /content/drive\n"
          ]
        }
      ],
      "source": [
        "from google.colab import drive\n",
        "drive.mount('/content/drive')"
      ]
    },
    {
      "cell_type": "code",
      "execution_count": null,
      "metadata": {
        "colab": {
          "base_uri": "https://localhost:8080/"
        },
        "id": "YFvD3ehoifzs",
        "outputId": "ff809054-5b83-45c0-99d6-cd7c49c89e24"
      },
      "outputs": [
        {
          "name": "stdout",
          "output_type": "stream",
          "text": [
            "Looking in indexes: https://pypi.org/simple, https://us-python.pkg.dev/colab-wheels/public/simple/\n",
            "Requirement already satisfied: opencv-python in /usr/local/lib/python3.7/dist-packages (4.6.0.66)\n",
            "Requirement already satisfied: numpy>=1.14.5 in /usr/local/lib/python3.7/dist-packages (from opencv-python) (1.21.6)\n",
            "Looking in indexes: https://pypi.org/simple, https://us-python.pkg.dev/colab-wheels/public/simple/\n",
            "Collecting scikit-video\n",
            "  Downloading scikit_video-1.1.11-py2.py3-none-any.whl (2.3 MB)\n",
            "\u001b[K     |████████████████████████████████| 2.3 MB 13.5 MB/s \n",
            "\u001b[?25hRequirement already satisfied: pillow in /usr/local/lib/python3.7/dist-packages (from scikit-video) (7.1.2)\n",
            "Requirement already satisfied: scipy in /usr/local/lib/python3.7/dist-packages (from scikit-video) (1.7.3)\n",
            "Requirement already satisfied: numpy in /usr/local/lib/python3.7/dist-packages (from scikit-video) (1.21.6)\n",
            "Installing collected packages: scikit-video\n",
            "Successfully installed scikit-video-1.1.11\n",
            "Looking in indexes: https://pypi.org/simple, https://us-python.pkg.dev/colab-wheels/public/simple/\n",
            "Requirement already satisfied: scikit-image in /usr/local/lib/python3.7/dist-packages (0.18.3)\n",
            "Requirement already satisfied: scipy>=1.0.1 in /usr/local/lib/python3.7/dist-packages (from scikit-image) (1.7.3)\n",
            "Requirement already satisfied: numpy>=1.16.5 in /usr/local/lib/python3.7/dist-packages (from scikit-image) (1.21.6)\n",
            "Requirement already satisfied: tifffile>=2019.7.26 in /usr/local/lib/python3.7/dist-packages (from scikit-image) (2021.11.2)\n",
            "Requirement already satisfied: matplotlib!=3.0.0,>=2.0.0 in /usr/local/lib/python3.7/dist-packages (from scikit-image) (3.2.2)\n",
            "Requirement already satisfied: imageio>=2.3.0 in /usr/local/lib/python3.7/dist-packages (from scikit-image) (2.9.0)\n",
            "Requirement already satisfied: pillow!=7.1.0,!=7.1.1,>=4.3.0 in /usr/local/lib/python3.7/dist-packages (from scikit-image) (7.1.2)\n",
            "Requirement already satisfied: PyWavelets>=1.1.1 in /usr/local/lib/python3.7/dist-packages (from scikit-image) (1.3.0)\n",
            "Requirement already satisfied: networkx>=2.0 in /usr/local/lib/python3.7/dist-packages (from scikit-image) (2.6.3)\n",
            "Requirement already satisfied: kiwisolver>=1.0.1 in /usr/local/lib/python3.7/dist-packages (from matplotlib!=3.0.0,>=2.0.0->scikit-image) (1.4.4)\n",
            "Requirement already satisfied: pyparsing!=2.0.4,!=2.1.2,!=2.1.6,>=2.0.1 in /usr/local/lib/python3.7/dist-packages (from matplotlib!=3.0.0,>=2.0.0->scikit-image) (3.0.9)\n",
            "Requirement already satisfied: python-dateutil>=2.1 in /usr/local/lib/python3.7/dist-packages (from matplotlib!=3.0.0,>=2.0.0->scikit-image) (2.8.2)\n",
            "Requirement already satisfied: cycler>=0.10 in /usr/local/lib/python3.7/dist-packages (from matplotlib!=3.0.0,>=2.0.0->scikit-image) (0.11.0)\n",
            "Requirement already satisfied: typing-extensions in /usr/local/lib/python3.7/dist-packages (from kiwisolver>=1.0.1->matplotlib!=3.0.0,>=2.0.0->scikit-image) (4.1.1)\n",
            "Requirement already satisfied: six>=1.5 in /usr/local/lib/python3.7/dist-packages (from python-dateutil>=2.1->matplotlib!=3.0.0,>=2.0.0->scikit-image) (1.15.0)\n"
          ]
        }
      ],
      "source": [
        "!pip install opencv-python\n",
        "!pip install scikit-video\n",
        "!pip install scikit-image"
      ]
    },
    {
      "cell_type": "code",
      "execution_count": null,
      "metadata": {
        "id": "7fqRAf7NiEzz"
      },
      "outputs": [],
      "source": [
        "import PIL\n",
        "import PIL.Image\n",
        "import skvideo.io\n",
        "import skimage.transform\n",
        "import numpy as np\n",
        "import cv2\n",
        "from joblib import Parallel, delayed\n",
        "\n",
        "def process_and_write_image(images,name):\n",
        "    images = np.array(images).transpose((0,2,3,4,1))\n",
        "    images = (images + 1)*127.5\n",
        "    for i in range(images.shape[0]):\n",
        "        PIL.Image.fromarray(np.around(images[i,0,:,:,:]).astype(np.uint8)).save(\"./genvideos/\" + name + \".jpg\")\n",
        "\n",
        "def read_and_process_video(files,size,nof):\n",
        "   \n",
        "    videos = np.zeros((size,nof,64,64,3))\n",
        "    counter = 0\n",
        "    for file in files:\n",
        "        # vcap = cv2.VideoCapture(file) # 0=camera\n",
        "        # width  = int(vcap.get(cv2.CAP_PROP_FRAME_WIDTH))   # float `width`\n",
        "        # height = int(vcap.get(cv2.CAP_PROP_FRAME_HEIGHT))\n",
        "        vid = skvideo.io.vreader(file, num_frames=nof)\n",
        "        curr_frames = []\n",
        "        i = 0\n",
        "        for frame in vid:\n",
        "            frame = skimage.transform.resize(frame,[64,64])\n",
        "            curr_frames.append(frame)\n",
        "            i = i + 1\n",
        "        curr_frames = np.array(curr_frames)\n",
        "        curr_frames = curr_frames*255.0\n",
        "        curr_frames = curr_frames/127.5 - 1\n",
        "        videos[counter,:,:,:,:] = curr_frames\n",
        "        counter = counter + 1\n",
        "    return videos\n",
        "\n",
        "def process_and_write_video(videos,name):\n",
        "    videos = np.array(videos)\n",
        "    videos = np.reshape(videos,[-1,3,32,64,64]).transpose((0,2,3,4,1))\n",
        "    vidwrite = np.zeros((32,64,64,3))\n",
        "    for i in range(videos.shape[0]):\n",
        "        vid = videos[i,:,:,:,:]\n",
        "        vid = (vid + 1)*127.5\n",
        "        for j in range(vid.shape[0]):\n",
        "            frame = vid[j,:,:,:]\n",
        "            vidwrite[j,:,:,:] = frame\n",
        "        skvideo.io.vwrite(\"./genvideos/\" +name + \".mp4\",vidwrite)"
      ]
    },
    {
      "cell_type": "code",
      "execution_count": null,
      "metadata": {
        "id": "aNI8xq2G_HfT"
      },
      "outputs": [],
      "source": [
        "import torch\n",
        "import torch.nn as nn\n",
        "import torch.nn.init as init\n",
        "import torch.nn.functional as F\n",
        "import torch.optim as optim\n",
        "from torch.autograd import Variable\n",
        "\n",
        "import os\n",
        "import scipy.misc\n",
        "import numpy as np\n",
        "import glob\n",
        "import sys\n",
        "from argparse import ArgumentParser\n",
        "from datetime import datetime\n",
        "from random import shuffle\n",
        "from skimage.transform import resize\n",
        "\n",
        "from tqdm import tqdm\n",
        "from pickle import load\n",
        "from matplotlib.pylab import plt\n",
        "from numpy import arange\n",
        "\n",
        "epochs = 10\n",
        "dim = [3,32,64,64]\n",
        "zd = 100\n",
        "nb = 32\n",
        "l = 0.1\n",
        "c = None\n",
        "s = 1\n",
        "\n",
        "class Generator(torch.nn.Module):\n",
        "    def __init__(self, zdim=zd):\n",
        "        super(Generator, self).__init__()\n",
        "        \n",
        "        self.zdim = zdim\n",
        "        \n",
        "        # Background\n",
        "        self.conv1b = nn.ConvTranspose2d(zdim, 512, [4,4], [1,1])\n",
        "        self.bn1b = nn.BatchNorm2d(512)\n",
        "\n",
        "        self.conv2b = nn.ConvTranspose2d(512, 256, [4,4], [2,2], [1,1])\n",
        "        self.bn2b = nn.BatchNorm2d(256)\n",
        "\n",
        "        self.conv3b = nn.ConvTranspose2d(256, 128, [4,4], [2,2], [1,1])\n",
        "        self.bn3b = nn.BatchNorm2d(128)\n",
        "\n",
        "        self.conv4b = nn.ConvTranspose2d(128, 64, [4,4], [2,2], [1,1])\n",
        "        self.bn4b = nn.BatchNorm2d(64)\n",
        "\n",
        "        self.conv5b = nn.ConvTranspose2d(64, 3, [4,4], [2,2], [1,1])\n",
        "\n",
        "        # Foreground\n",
        "        self.conv1 = nn.ConvTranspose3d(zdim, 512, [2,4,4], [1,1,1])\n",
        "        self.bn1 = nn.BatchNorm3d(512)\n",
        "\n",
        "        self.conv2 = nn.ConvTranspose3d(512, 256, [4,4,4], [2,2,2], [1,1,1])\n",
        "        self.bn2 = nn.BatchNorm3d(256)\n",
        "\n",
        "        self.conv3 = nn.ConvTranspose3d(256, 128, [4,4,4], [2,2,2], [1,1,1])\n",
        "        self.bn3 = nn.BatchNorm3d(128)\n",
        "\n",
        "        self.conv4 = nn.ConvTranspose3d(128, 64, [4,4,4], [2,2,2], [1,1,1])\n",
        "        self.bn4 = nn.BatchNorm3d(64)\n",
        "\n",
        "        self.conv5 = nn.ConvTranspose3d(64, 3, [4,4,4], [2,2,2], [1,1,1])\n",
        "\n",
        "        # Mask\n",
        "        self.conv5m = nn.ConvTranspose3d(64, 1, [4,4,4], [2,2,2], [1,1,1])\n",
        "\n",
        "        # Init weights\n",
        "        for m in self.modules():\n",
        "            classname = m.__class__.__name__\n",
        "            if classname.lower().find('conv') != -1:\n",
        "                nn.init.normal_(m.weight, mean=0, std=0.01)\n",
        "                nn.init.constant_(m.bias, 0)\n",
        "            elif classname.lower().find('bn') != -1:\n",
        "                nn.init.normal_(m.weight, mean=1, std=0.02)\n",
        "                nn.init.constant_(m.bias, 0)\n",
        "\n",
        "    def forward(self, z):\n",
        "        # Background\n",
        "        b = F.relu(self.bn1b(self.conv1b(z.unsqueeze(2).unsqueeze(3))))\n",
        "        b = F.relu(self.bn2b(self.conv2b(b)))\n",
        "        b = F.relu(self.bn3b(self.conv3b(b)))\n",
        "        b = F.relu(self.bn4b(self.conv4b(b)))\n",
        "        b = torch.tanh(self.conv5b(b)).unsqueeze(2)  # b, 3, 1, 64, 64\n",
        "\n",
        "        # Foreground\n",
        "        f = F.relu(self.bn1(self.conv1(z.unsqueeze(2).unsqueeze(3).unsqueeze(4))))\n",
        "        f = F.relu(self.bn2(self.conv2(f)))\n",
        "        f = F.relu(self.bn3(self.conv3(f)))\n",
        "        f = F.relu(self.bn4(self.conv4(f)))\n",
        "        m = torch.sigmoid(self.conv5m(f))   # b, 1, 32, 64, 64\n",
        "        f = torch.tanh(self.conv5(f))   # b, 3, 32, 64, 64\n",
        "        \n",
        "        out = m*f + (1-m)*b\n",
        "\n",
        "        return out, f, b, m\n",
        "\n",
        "\n",
        "class Discriminator(torch.nn.Module):\n",
        "    def __init__(self):\n",
        "        super(Discriminator, self).__init__()\n",
        "        \n",
        "        self.conv1 = nn.Conv3d(3, 64, [4,4,4], [2,2,2], [1,1,1])\n",
        "\n",
        "        self.conv2 = nn.Conv3d(64, 128, [4,4,4], [2,2,2], [1,1,1])\n",
        "        self.bn2 = nn.BatchNorm3d(128)\n",
        "\n",
        "        self.conv3 = nn.Conv3d(128, 256, [4,4,4], [2,2,2], [1,1,1])\n",
        "        self.bn3 = nn.BatchNorm3d(256)\n",
        "\n",
        "        self.conv4 = nn.Conv3d(256, 512, [4,4,4], [2,2,2], [1,1,1])\n",
        "        self.bn4 = nn.BatchNorm3d(512)\n",
        "\n",
        "        self.conv5 = nn.Conv3d(512, 1, [2,4,4], [1,1,1])\n",
        "\n",
        "        # Init weights\n",
        "        for m in self.modules():\n",
        "            classname = m.__class__.__name__\n",
        "            if classname.lower().find('conv') != -1:\n",
        "                nn.init.normal_(m.weight, mean=0, std=0.01)\n",
        "                nn.init.constant_(m.bias, 0)\n",
        "            elif classname.lower().find('bn') != -1:\n",
        "                nn.init.normal_(m.weight, mean=1, std=0.02)\n",
        "                nn.init.constant_(m.bias, 0)\n",
        "\n",
        "    def forward(self, x):\n",
        "        x = F.leaky_relu(self.conv1(x), 0.2)\n",
        "        x = F.leaky_relu(self.bn2(self.conv2(x)), 0.2)\n",
        "        x = F.leaky_relu(self.bn3(self.conv3(x)), 0.2)\n",
        "        x = F.leaky_relu(self.bn4(self.conv4(x)), 0.2)\n",
        "        x = self.conv5(x)\n",
        "\n",
        "        return x\n",
        "\n",
        "def plot_history(loss, num_epochs, model_type, label):\n",
        "      plt.plot(np.arange(0, num_epochs, step=1), loss, label=label)\n",
        "      plt.title(f'HISTORY ({model_type})')\n",
        "      plt.xlabel('Epochs')\n",
        "      plt.ylabel('Loss')\n",
        "      plt.legend(loc='best')\n",
        "      plt.savefig(model_type+'.png')"
      ]
    },
    {
      "cell_type": "code",
      "execution_count": null,
      "metadata": {
        "id": "FtOjAs0A1bk2"
      },
      "outputs": [],
      "source": [
        "class Discriminator(torch.nn.Module):\n",
        "    def __init__(self):\n",
        "        super(Discriminator, self).__init__()\n",
        "        \n",
        "        self.conv1 = nn.Conv3d(3, 64, [4,4,4], [2,2,2], [1,1,1])\n",
        "\n",
        "        self.conv2 = nn.Conv3d(64, 128, [4,4,4], [2,2,2], [1,1,1])\n",
        "        self.bn2 = nn.BatchNorm3d(128)\n",
        "\n",
        "        self.conv3 = nn.Conv3d(128, 256, [4,4,4], [2,2,2], [1,1,1])\n",
        "        self.bn3 = nn.BatchNorm3d(256)\n",
        "\n",
        "        self.conv4 = nn.Conv3d(256, 512, [4,4,4], [2,2,2], [1,1,1])\n",
        "        self.bn4 = nn.BatchNorm3d(512)\n",
        "        \n",
        "\n",
        "        self.conv5 = nn.Conv3d(512, 1, [2,4,4], [1,1,1])\n",
        "\n",
        "        # Init weights\n",
        "        for m in self.modules():\n",
        "            classname = m.__class__.__name__\n",
        "            if classname.lower().find('conv') != -1:\n",
        "                nn.init.normal_(m.weight, mean=0, std=0.01)\n",
        "                nn.init.constant_(m.bias, 0)\n",
        "            elif classname.lower().find('bn') != -1:\n",
        "                nn.init.normal_(m.weight, mean=1, std=0.02)\n",
        "                nn.init.constant_(m.bias, 0)\n",
        "\n",
        "    def forward(self, x):\n",
        "        x = F.leaky_relu(self.conv1(x), 0.2)\n",
        "        x = F.leaky_relu(self.bn2(self.conv2(x)), 0.2)\n",
        "        x = F.leaky_relu(self.bn3(self.conv3(x)), 0.2)\n",
        "        x = F.leaky_relu(self.bn4(self.conv4(x)), 0.2)\n",
        "        x = self.conv5(x)"
      ]
    },
    {
      "cell_type": "code",
      "execution_count": null,
      "metadata": {
        "colab": {
          "base_uri": "https://localhost:8080/"
        },
        "id": "SdfcsO28qQhV",
        "outputId": "49431920-c9e4-40ed-b1d9-4a41f664031c"
      },
      "outputs": [
        {
          "name": "stdout",
          "output_type": "stream",
          "text": [
            "49\n"
          ]
        },
        {
          "name": "stderr",
          "output_type": "stream",
          "text": [
            "  0%|          | 0/10 [00:00<?, ?it/s]\n",
            "  0%|          | 0/49 [00:00<?, ?it/s]\u001b[A/usr/local/lib/python3.7/dist-packages/torch/nn/_reduction.py:42: UserWarning: size_average and reduce args will be deprecated, please use reduction='mean' instead.\n",
            "  warnings.warn(warning.format(ret))\n",
            "\n",
            "  2%|▏         | 1/49 [00:21<16:55, 21.15s/it]\u001b[A"
          ]
        },
        {
          "name": "stdout",
          "output_type": "stream",
          "text": [
            "Epoch 0/10 | Iter 0/49 | D 9.6115e-01 | G 1.8463e+01 | Real 0.68 | Fake 0.76\n",
            "Epoch 0/10 | Iter 1/49 | D 1.0623e+00 | G 1.9658e+00 | Real 0.21 | Fake 0.03\n"
          ]
        },
        {
          "name": "stderr",
          "output_type": "stream",
          "text": [
            "\n",
            "  4%|▍         | 2/49 [00:42<16:27, 21.01s/it]\u001b[A\n",
            "  6%|▌         | 3/49 [01:05<16:52, 22.00s/it]\u001b[A"
          ]
        },
        {
          "name": "stdout",
          "output_type": "stream",
          "text": [
            "Epoch 0/10 | Iter 2/49 | D 6.9101e+00 | G 6.8663e+00 | Real 1.00 | Fake 1.00\n"
          ]
        },
        {
          "name": "stderr",
          "output_type": "stream",
          "text": [
            "\n",
            "  8%|▊         | 4/49 [01:26<16:08, 21.52s/it]\u001b[A"
          ]
        },
        {
          "name": "stdout",
          "output_type": "stream",
          "text": [
            "Epoch 0/10 | Iter 3/49 | D 2.3526e+00 | G 1.7451e+01 | Real 0.78 | Fake 0.88\n"
          ]
        },
        {
          "name": "stderr",
          "output_type": "stream",
          "text": [
            "\n",
            " 10%|█         | 5/49 [01:46<15:33, 21.21s/it]\u001b[A"
          ]
        },
        {
          "name": "stdout",
          "output_type": "stream",
          "text": [
            "Epoch 0/10 | Iter 4/49 | D 4.9901e-02 | G 1.5329e+01 | Real 0.93 | Fake 0.00\n"
          ]
        },
        {
          "name": "stderr",
          "output_type": "stream",
          "text": [
            "\n",
            " 12%|█▏        | 6/49 [02:07<15:01, 20.97s/it]\u001b[A"
          ]
        },
        {
          "name": "stdout",
          "output_type": "stream",
          "text": [
            "Epoch 0/10 | Iter 5/49 | D 2.4780e+00 | G 1.7251e+01 | Real 0.40 | Fake 0.91\n"
          ]
        },
        {
          "name": "stderr",
          "output_type": "stream",
          "text": [
            "\n",
            " 14%|█▍        | 7/49 [02:28<14:39, 20.94s/it]\u001b[A"
          ]
        },
        {
          "name": "stdout",
          "output_type": "stream",
          "text": [
            "Epoch 0/10 | Iter 6/49 | D 1.8414e+00 | G 1.3092e+01 | Real 0.47 | Fake 0.00\n"
          ]
        },
        {
          "name": "stderr",
          "output_type": "stream",
          "text": [
            "\n",
            " 16%|█▋        | 8/49 [02:48<14:13, 20.81s/it]\u001b[A"
          ]
        },
        {
          "name": "stdout",
          "output_type": "stream",
          "text": [
            "Epoch 0/10 | Iter 7/49 | D 3.0895e+00 | G 1.8823e+01 | Real 0.78 | Fake 0.99\n"
          ]
        },
        {
          "name": "stderr",
          "output_type": "stream",
          "text": [
            "\n",
            " 18%|█▊        | 9/49 [03:09<13:51, 20.78s/it]\u001b[A"
          ]
        },
        {
          "name": "stdout",
          "output_type": "stream",
          "text": [
            "Epoch 0/10 | Iter 8/49 | D 8.5883e-01 | G 1.5849e+01 | Real 0.40 | Fake 0.00\n",
            "Epoch 0/10 | Iter 9/49 | D 2.2501e-01 | G 7.9357e+00 | Real 0.88 | Fake 0.09\n",
            "Epoch 0/10 | Iter 9/49 | D 2.2501e-01 | G 7.9357e+00 | Real 0.88 | Fake 0.09\n"
          ]
        },
        {
          "name": "stderr",
          "output_type": "stream",
          "text": [
            "\n",
            " 20%|██        | 10/49 [03:30<13:32, 20.83s/it]\u001b[A"
          ]
        },
        {
          "name": "stdout",
          "output_type": "stream",
          "text": [
            ".....Writing sample generated videos......\n"
          ]
        },
        {
          "name": "stderr",
          "output_type": "stream",
          "text": [
            "\n",
            " 22%|██▏       | 11/49 [03:51<13:11, 20.82s/it]\u001b[A"
          ]
        },
        {
          "name": "stdout",
          "output_type": "stream",
          "text": [
            "Epoch 0/10 | Iter 10/49 | D 7.8760e+00 | G 1.3578e+01 | Real 0.77 | Fake 1.00\n"
          ]
        },
        {
          "name": "stderr",
          "output_type": "stream",
          "text": [
            "\n",
            " 24%|██▍       | 12/49 [04:11<12:46, 20.72s/it]\u001b[A"
          ]
        },
        {
          "name": "stdout",
          "output_type": "stream",
          "text": [
            "Epoch 0/10 | Iter 11/49 | D 2.7599e-01 | G 1.2991e+01 | Real 0.70 | Fake 0.00\n"
          ]
        },
        {
          "name": "stderr",
          "output_type": "stream",
          "text": [
            "\n",
            " 27%|██▋       | 13/49 [04:32<12:23, 20.65s/it]\u001b[A"
          ]
        },
        {
          "name": "stdout",
          "output_type": "stream",
          "text": [
            "Epoch 0/10 | Iter 12/49 | D 4.0715e-01 | G 7.4418e+00 | Real 0.60 | Fake 0.01\n"
          ]
        },
        {
          "name": "stderr",
          "output_type": "stream",
          "text": [
            "\n",
            " 29%|██▊       | 14/49 [04:52<12:01, 20.62s/it]\u001b[A"
          ]
        },
        {
          "name": "stdout",
          "output_type": "stream",
          "text": [
            "Epoch 0/10 | Iter 13/49 | D 3.3057e+00 | G 1.4751e+01 | Real 0.62 | Fake 0.99\n"
          ]
        },
        {
          "name": "stderr",
          "output_type": "stream",
          "text": [
            "\n",
            " 31%|███       | 15/49 [05:13<11:40, 20.60s/it]\u001b[A"
          ]
        },
        {
          "name": "stdout",
          "output_type": "stream",
          "text": [
            "Epoch 0/10 | Iter 14/49 | D 1.2382e+00 | G 1.4274e+01 | Real 0.46 | Fake 0.00\n"
          ]
        },
        {
          "name": "stderr",
          "output_type": "stream",
          "text": [
            "\n",
            " 33%|███▎      | 16/49 [05:33<11:20, 20.63s/it]\u001b[A"
          ]
        },
        {
          "name": "stdout",
          "output_type": "stream",
          "text": [
            "Epoch 0/10 | Iter 15/49 | D 3.4860e-01 | G 9.1136e+00 | Real 0.66 | Fake 0.00\n"
          ]
        },
        {
          "name": "stderr",
          "output_type": "stream",
          "text": [
            "\n",
            " 35%|███▍      | 17/49 [05:54<11:04, 20.76s/it]\u001b[A"
          ]
        },
        {
          "name": "stdout",
          "output_type": "stream",
          "text": [
            "Epoch 0/10 | Iter 16/49 | D 1.4453e+00 | G 1.4367e+01 | Real 0.86 | Fake 0.91\n"
          ]
        },
        {
          "name": "stderr",
          "output_type": "stream",
          "text": [
            "\n",
            " 37%|███▋      | 18/49 [06:15<10:44, 20.79s/it]\u001b[A"
          ]
        },
        {
          "name": "stdout",
          "output_type": "stream",
          "text": [
            "Epoch 0/10 | Iter 17/49 | D 6.3973e-02 | G 1.4604e+01 | Real 0.90 | Fake 0.00\n"
          ]
        },
        {
          "name": "stderr",
          "output_type": "stream",
          "text": [
            "\n",
            " 39%|███▉      | 19/49 [06:36<10:21, 20.73s/it]"
          ]
        },
        {
          "name": "stdout",
          "output_type": "stream",
          "text": [
            "Epoch 0/10 | Iter 18/49 | D 5.7218e-02 | G 1.1365e+01 | Real 0.91 | Fake 0.00\n"
          ]
        },
        {
          "name": "stderr",
          "output_type": "stream",
          "text": [
            "\u001b[A"
          ]
        },
        {
          "name": "stdout",
          "output_type": "stream",
          "text": [
            "Epoch 0/10 | Iter 19/49 | D 1.0124e-01 | G 6.0264e+00 | Real 0.93 | Fake 0.11\n",
            "Epoch 0/10 | Iter 19/49 | D 1.0124e-01 | G 6.0264e+00 | Real 0.93 | Fake 0.11\n"
          ]
        },
        {
          "name": "stderr",
          "output_type": "stream",
          "text": [
            "\n",
            " 41%|████      | 20/49 [06:57<10:01, 20.75s/it]\u001b[A"
          ]
        },
        {
          "name": "stdout",
          "output_type": "stream",
          "text": [
            ".....Writing sample generated videos......\n"
          ]
        },
        {
          "name": "stderr",
          "output_type": "stream",
          "text": [
            "\n"
          ]
        },
        {
          "name": "stdout",
          "output_type": "stream",
          "text": [
            "Epoch 0/10 | Iter 20/49 | D 6.1943e+00 | G 1.4404e+01 | Real 0.87 | Fake 1.00\n"
          ]
        },
        {
          "name": "stderr",
          "output_type": "stream",
          "text": [
            " 43%|████▎     | 21/49 [07:17<09:37, 20.63s/it]\u001b[A\n",
            " 45%|████▍     | 22/49 [07:38<09:18, 20.69s/it]\u001b[A"
          ]
        },
        {
          "name": "stdout",
          "output_type": "stream",
          "text": [
            "Epoch 0/10 | Iter 21/49 | D 7.2543e-01 | G 1.4493e+01 | Real 0.37 | Fake 0.00\n"
          ]
        },
        {
          "name": "stderr",
          "output_type": "stream",
          "text": [
            "\n",
            " 47%|████▋     | 23/49 [07:59<08:58, 20.71s/it]\u001b[A"
          ]
        },
        {
          "name": "stdout",
          "output_type": "stream",
          "text": [
            "Epoch 0/10 | Iter 22/49 | D 2.5116e-01 | G 1.1418e+01 | Real 0.68 | Fake 0.00\n"
          ]
        },
        {
          "name": "stderr",
          "output_type": "stream",
          "text": [
            "\n",
            " 49%|████▉     | 24/49 [08:20<08:40, 20.80s/it]\u001b[A"
          ]
        },
        {
          "name": "stdout",
          "output_type": "stream",
          "text": [
            "Epoch 0/10 | Iter 23/49 | D 1.3597e-01 | G 6.2346e+00 | Real 0.82 | Fake 0.00\n"
          ]
        },
        {
          "name": "stderr",
          "output_type": "stream",
          "text": [
            "\n",
            " 51%|█████     | 25/49 [08:40<08:18, 20.77s/it]\u001b[A"
          ]
        },
        {
          "name": "stdout",
          "output_type": "stream",
          "text": [
            "Epoch 0/10 | Iter 24/49 | D 9.0184e-01 | G 1.1731e+01 | Real 0.87 | Fake 0.79\n"
          ]
        },
        {
          "name": "stderr",
          "output_type": "stream",
          "text": [
            "\n",
            " 53%|█████▎    | 26/49 [09:01<07:57, 20.76s/it]\u001b[A"
          ]
        },
        {
          "name": "stdout",
          "output_type": "stream",
          "text": [
            "Epoch 0/10 | Iter 25/49 | D 2.8805e-01 | G 1.2608e+01 | Real 0.73 | Fake 0.00\n"
          ]
        },
        {
          "name": "stderr",
          "output_type": "stream",
          "text": [
            "\n",
            " 55%|█████▌    | 27/49 [09:22<07:35, 20.68s/it]\u001b[A"
          ]
        },
        {
          "name": "stdout",
          "output_type": "stream",
          "text": [
            "Epoch 0/10 | Iter 26/49 | D 5.3375e-01 | G 7.5551e+00 | Real 0.59 | Fake 0.00\n"
          ]
        },
        {
          "name": "stderr",
          "output_type": "stream",
          "text": [
            "\n",
            " 57%|█████▋    | 28/49 [09:42<07:14, 20.67s/it]\u001b[A"
          ]
        },
        {
          "name": "stdout",
          "output_type": "stream",
          "text": [
            "Epoch 0/10 | Iter 27/49 | D 2.5168e+00 | G 1.4666e+01 | Real 0.79 | Fake 0.99\n"
          ]
        },
        {
          "name": "stderr",
          "output_type": "stream",
          "text": [
            "\n",
            " 59%|█████▉    | 29/49 [10:03<06:53, 20.67s/it]\u001b[A"
          ]
        },
        {
          "name": "stdout",
          "output_type": "stream",
          "text": [
            "Epoch 0/10 | Iter 28/49 | D 4.8249e-01 | G 1.4446e+01 | Real 0.60 | Fake 0.00\n",
            "Epoch 0/10 | Iter 29/49 | D 2.4980e-01 | G 1.1257e+01 | Real 0.73 | Fake 0.00\n",
            "Epoch 0/10 | Iter 29/49 | D 2.4980e-01 | G 1.1257e+01 | Real 0.73 | Fake 0.00\n"
          ]
        },
        {
          "name": "stderr",
          "output_type": "stream",
          "text": [
            "\n",
            " 61%|██████    | 30/49 [10:24<06:33, 20.71s/it]\u001b[A"
          ]
        },
        {
          "name": "stdout",
          "output_type": "stream",
          "text": [
            ".....Writing sample generated videos......\n"
          ]
        },
        {
          "name": "stderr",
          "output_type": "stream",
          "text": [
            "\n",
            " 63%|██████▎   | 31/49 [10:44<06:12, 20.69s/it]"
          ]
        },
        {
          "name": "stdout",
          "output_type": "stream",
          "text": [
            "Epoch 0/10 | Iter 30/49 | D 3.0167e-01 | G 4.7895e+00 | Real 0.64 | Fake 0.00\n"
          ]
        },
        {
          "name": "stderr",
          "output_type": "stream",
          "text": [
            "\u001b[A\n",
            " 65%|██████▌   | 32/49 [11:05<05:50, 20.64s/it]\u001b[A"
          ]
        },
        {
          "name": "stdout",
          "output_type": "stream",
          "text": [
            "Epoch 0/10 | Iter 31/49 | D 2.6361e+00 | G 1.2614e+01 | Real 0.96 | Fake 0.99\n"
          ]
        },
        {
          "name": "stderr",
          "output_type": "stream",
          "text": [
            "\n",
            " 67%|██████▋   | 33/49 [11:25<05:29, 20.58s/it]\u001b[A"
          ]
        },
        {
          "name": "stdout",
          "output_type": "stream",
          "text": [
            "Epoch 0/10 | Iter 32/49 | D 6.0315e-01 | G 1.3175e+01 | Real 0.66 | Fake 0.00\n"
          ]
        },
        {
          "name": "stderr",
          "output_type": "stream",
          "text": [
            "\n",
            " 69%|██████▉   | 34/49 [11:46<05:08, 20.57s/it]\u001b[A"
          ]
        },
        {
          "name": "stdout",
          "output_type": "stream",
          "text": [
            "Epoch 0/10 | Iter 33/49 | D 1.1662e+00 | G 8.9959e+00 | Real 0.47 | Fake 0.00\n"
          ]
        },
        {
          "name": "stderr",
          "output_type": "stream",
          "text": [
            "\n",
            " 71%|███████▏  | 35/49 [12:06<04:47, 20.54s/it]\u001b[A"
          ]
        },
        {
          "name": "stdout",
          "output_type": "stream",
          "text": [
            "Epoch 0/10 | Iter 34/49 | D 5.9522e-01 | G 4.9711e+00 | Real 0.64 | Fake 0.31\n"
          ]
        },
        {
          "name": "stderr",
          "output_type": "stream",
          "text": [
            "\n",
            " 73%|███████▎  | 36/49 [12:27<04:27, 20.57s/it]\u001b[A"
          ]
        },
        {
          "name": "stdout",
          "output_type": "stream",
          "text": [
            "Epoch 0/10 | Iter 35/49 | D 4.2129e+00 | G 1.2686e+01 | Real 0.79 | Fake 1.00\n"
          ]
        },
        {
          "name": "stderr",
          "output_type": "stream",
          "text": [
            "\n",
            " 76%|███████▌  | 37/49 [12:48<04:09, 20.75s/it]\u001b[A"
          ]
        },
        {
          "name": "stdout",
          "output_type": "stream",
          "text": [
            "Epoch 0/10 | Iter 36/49 | D 7.3387e-01 | G 1.2331e+01 | Real 0.47 | Fake 0.00\n"
          ]
        },
        {
          "name": "stderr",
          "output_type": "stream",
          "text": [
            "\n",
            " 78%|███████▊  | 38/49 [13:09<03:48, 20.78s/it]\u001b[A"
          ]
        },
        {
          "name": "stdout",
          "output_type": "stream",
          "text": [
            "Epoch 0/10 | Iter 37/49 | D 4.8948e-01 | G 4.1855e+00 | Real 0.59 | Fake 0.01\n"
          ]
        },
        {
          "name": "stderr",
          "output_type": "stream",
          "text": [
            "\n",
            " 80%|███████▉  | 39/49 [13:30<03:27, 20.77s/it]\u001b[A"
          ]
        },
        {
          "name": "stdout",
          "output_type": "stream",
          "text": [
            "Epoch 0/10 | Iter 38/49 | D 8.4849e-01 | G 7.3707e+00 | Real 0.77 | Fake 0.72\n",
            "Epoch 0/10 | Iter 39/49 | D 1.5375e-01 | G 6.7419e+00 | Real 0.86 | Fake 0.10\n",
            "Epoch 0/10 | Iter 39/49 | D 1.5375e-01 | G 6.7419e+00 | Real 0.86 | Fake 0.10\n"
          ]
        },
        {
          "name": "stderr",
          "output_type": "stream",
          "text": [
            "\n",
            " 82%|████████▏ | 40/49 [13:51<03:07, 20.83s/it]\u001b[A"
          ]
        },
        {
          "name": "stdout",
          "output_type": "stream",
          "text": [
            ".....Writing sample generated videos......\n"
          ]
        },
        {
          "name": "stderr",
          "output_type": "stream",
          "text": [
            "\n",
            " 84%|████████▎ | 41/49 [14:11<02:45, 20.72s/it]\u001b[A"
          ]
        },
        {
          "name": "stdout",
          "output_type": "stream",
          "text": [
            "Epoch 0/10 | Iter 40/49 | D 1.1220e-01 | G 5.6800e+00 | Real 0.89 | Fake 0.08\n"
          ]
        },
        {
          "name": "stderr",
          "output_type": "stream",
          "text": [
            "\n",
            " 86%|████████▌ | 42/49 [14:32<02:25, 20.83s/it]\u001b[A"
          ]
        },
        {
          "name": "stdout",
          "output_type": "stream",
          "text": [
            "Epoch 0/10 | Iter 41/49 | D 4.7197e-01 | G 2.9587e+00 | Real 0.61 | Fake 0.23\n"
          ]
        },
        {
          "name": "stderr",
          "output_type": "stream",
          "text": [
            "\n",
            " 88%|████████▊ | 43/49 [14:53<02:04, 20.79s/it]\u001b[A"
          ]
        },
        {
          "name": "stdout",
          "output_type": "stream",
          "text": [
            "Epoch 0/10 | Iter 42/49 | D 5.9720e-01 | G 4.5151e+00 | Real 0.90 | Fake 0.63\n"
          ]
        },
        {
          "name": "stderr",
          "output_type": "stream",
          "text": [
            "\n",
            " 90%|████████▉ | 44/49 [15:13<01:43, 20.72s/it]\u001b[A"
          ]
        },
        {
          "name": "stdout",
          "output_type": "stream",
          "text": [
            "Epoch 0/10 | Iter 43/49 | D 4.8679e-01 | G 3.7167e+00 | Real 0.68 | Fake 0.21\n"
          ]
        },
        {
          "name": "stderr",
          "output_type": "stream",
          "text": [
            "\n",
            " 92%|█████████▏| 45/49 [15:34<01:22, 20.70s/it]\u001b[A"
          ]
        },
        {
          "name": "stdout",
          "output_type": "stream",
          "text": [
            "Epoch 0/10 | Iter 44/49 | D 1.5024e+00 | G 2.1317e+00 | Real 0.41 | Fake 0.27\n"
          ]
        },
        {
          "name": "stderr",
          "output_type": "stream",
          "text": [
            "\n",
            " 94%|█████████▍| 46/49 [15:55<01:02, 20.79s/it]\u001b[A"
          ]
        },
        {
          "name": "stdout",
          "output_type": "stream",
          "text": [
            "Epoch 0/10 | Iter 45/49 | D 1.4055e+00 | G 2.1841e+00 | Real 0.48 | Fake 0.72\n"
          ]
        },
        {
          "name": "stderr",
          "output_type": "stream",
          "text": [
            "\n",
            " 96%|█████████▌| 47/49 [16:16<00:41, 20.76s/it]\u001b[A"
          ]
        },
        {
          "name": "stdout",
          "output_type": "stream",
          "text": [
            "Epoch 0/10 | Iter 46/49 | D 1.4808e+00 | G 1.6734e+00 | Real 0.48 | Fake 0.62\n"
          ]
        },
        {
          "name": "stderr",
          "output_type": "stream",
          "text": [
            "\n",
            " 98%|█████████▊| 48/49 [16:37<00:20, 20.80s/it]\u001b[A"
          ]
        },
        {
          "name": "stdout",
          "output_type": "stream",
          "text": [
            "Epoch 0/10 | Iter 47/49 | D 1.4823e+00 | G 4.1937e+00 | Real 0.41 | Fake 0.62\n",
            "Epoch 0/10 | Iter 48/49 | D 9.9703e-01 | G 4.1230e+00 | Real 0.34 | Fake 0.18\n",
            "Epoch 0/10 | Iter 48/49 | D 9.9703e-01 | G 4.1230e+00 | Real 0.34 | Fake 0.18\n"
          ]
        },
        {
          "name": "stderr",
          "output_type": "stream",
          "text": [
            "\n",
            "100%|██████████| 49/49 [16:58<00:00, 20.88s/it]\u001b[A\n",
            " 10%|█         | 1/10 [16:58<2:32:44, 1018.31s/it]"
          ]
        },
        {
          "name": "stdout",
          "output_type": "stream",
          "text": [
            ".....Writing sample generated videos......\n"
          ]
        },
        {
          "name": "stderr",
          "output_type": "stream",
          "text": [
            "\n",
            "  0%|          | 0/49 [00:00<?, ?it/s]\u001b[A\n",
            "  2%|▏         | 1/49 [00:20<16:36, 20.76s/it]\u001b[A"
          ]
        },
        {
          "name": "stdout",
          "output_type": "stream",
          "text": [
            "Epoch 1/10 | Iter 0/49 | D 1.1301e+00 | G 3.4291e+00 | Real 0.44 | Fake 0.42\n"
          ]
        },
        {
          "name": "stderr",
          "output_type": "stream",
          "text": [
            "\n",
            "  4%|▍         | 2/49 [00:41<16:14, 20.73s/it]\u001b[A"
          ]
        },
        {
          "name": "stdout",
          "output_type": "stream",
          "text": [
            "Epoch 1/10 | Iter 1/49 | D 7.0565e-01 | G 1.7947e+00 | Real 0.82 | Fake 0.50\n"
          ]
        },
        {
          "name": "stderr",
          "output_type": "stream",
          "text": [
            "\n",
            "  6%|▌         | 3/49 [01:02<15:54, 20.76s/it]\u001b[A"
          ]
        },
        {
          "name": "stdout",
          "output_type": "stream",
          "text": [
            "Epoch 1/10 | Iter 2/49 | D 1.3881e+00 | G 1.5582e+00 | Real 0.66 | Fake 0.67\n"
          ]
        },
        {
          "name": "stderr",
          "output_type": "stream",
          "text": [
            "\n",
            "  8%|▊         | 4/49 [01:23<15:38, 20.85s/it]\u001b[A"
          ]
        },
        {
          "name": "stdout",
          "output_type": "stream",
          "text": [
            "Epoch 1/10 | Iter 3/49 | D 7.5447e-01 | G 1.8078e+00 | Real 0.60 | Fake 0.47\n"
          ]
        },
        {
          "name": "stderr",
          "output_type": "stream",
          "text": [
            "\n",
            " 10%|█         | 5/49 [01:43<15:11, 20.73s/it]\u001b[A"
          ]
        },
        {
          "name": "stdout",
          "output_type": "stream",
          "text": [
            "Epoch 1/10 | Iter 4/49 | D 5.5487e-01 | G 1.9392e+00 | Real 0.72 | Fake 0.44\n"
          ]
        },
        {
          "name": "stderr",
          "output_type": "stream",
          "text": [
            "\n",
            " 12%|█▏        | 6/49 [02:04<14:51, 20.74s/it]\u001b[A"
          ]
        },
        {
          "name": "stdout",
          "output_type": "stream",
          "text": [
            "Epoch 1/10 | Iter 5/49 | D 4.2851e-01 | G 2.9103e+00 | Real 0.68 | Fake 0.29\n"
          ]
        },
        {
          "name": "stderr",
          "output_type": "stream",
          "text": [
            "\n",
            " 14%|█▍        | 7/49 [02:25<14:27, 20.66s/it]\u001b[A"
          ]
        },
        {
          "name": "stdout",
          "output_type": "stream",
          "text": [
            "Epoch 1/10 | Iter 6/49 | D 1.0104e+00 | G 1.0952e+00 | Real 0.25 | Fake 0.19\n"
          ]
        },
        {
          "name": "stderr",
          "output_type": "stream",
          "text": [
            "\n",
            " 16%|█▋        | 8/49 [02:45<14:01, 20.53s/it]\u001b[A"
          ]
        },
        {
          "name": "stdout",
          "output_type": "stream",
          "text": [
            "Epoch 1/10 | Iter 7/49 | D 6.1916e-01 | G 1.2774e+00 | Real 0.73 | Fake 0.54\n"
          ]
        },
        {
          "name": "stderr",
          "output_type": "stream",
          "text": [
            "\n",
            " 18%|█▊        | 9/49 [03:05<13:42, 20.55s/it]\u001b[A"
          ]
        },
        {
          "name": "stdout",
          "output_type": "stream",
          "text": [
            "Epoch 1/10 | Iter 8/49 | D 5.5372e-01 | G 1.6858e+00 | Real 0.61 | Fake 0.37\n",
            "Epoch 1/10 | Iter 9/49 | D 6.0351e-01 | G 1.8307e+00 | Real 0.62 | Fake 0.43\n",
            "Epoch 1/10 | Iter 9/49 | D 6.0351e-01 | G 1.8307e+00 | Real 0.62 | Fake 0.43\n"
          ]
        },
        {
          "name": "stderr",
          "output_type": "stream",
          "text": [
            "\n",
            " 20%|██        | 10/49 [03:26<13:23, 20.59s/it]\u001b[A"
          ]
        },
        {
          "name": "stdout",
          "output_type": "stream",
          "text": [
            ".....Writing sample generated videos......\n"
          ]
        },
        {
          "name": "stderr",
          "output_type": "stream",
          "text": [
            "\n",
            " 22%|██▏       | 11/49 [03:47<13:01, 20.58s/it]\u001b[A"
          ]
        },
        {
          "name": "stdout",
          "output_type": "stream",
          "text": [
            "Epoch 1/10 | Iter 10/49 | D 4.0031e-01 | G 1.8484e+00 | Real 0.71 | Fake 0.28\n"
          ]
        },
        {
          "name": "stderr",
          "output_type": "stream",
          "text": [
            "\n",
            " 24%|██▍       | 12/49 [04:07<12:41, 20.58s/it]\u001b[A"
          ]
        },
        {
          "name": "stdout",
          "output_type": "stream",
          "text": [
            "Epoch 1/10 | Iter 11/49 | D 3.2705e-01 | G 2.4091e+00 | Real 0.83 | Fake 0.36\n"
          ]
        },
        {
          "name": "stderr",
          "output_type": "stream",
          "text": [
            "\n",
            " 27%|██▋       | 13/49 [04:28<12:18, 20.52s/it]\u001b[A"
          ]
        },
        {
          "name": "stdout",
          "output_type": "stream",
          "text": [
            "Epoch 1/10 | Iter 12/49 | D 4.1660e-01 | G 1.8185e+00 | Real 0.64 | Fake 0.22\n"
          ]
        },
        {
          "name": "stderr",
          "output_type": "stream",
          "text": [
            "\n",
            " 29%|██▊       | 14/49 [04:48<11:57, 20.49s/it]\u001b[A"
          ]
        },
        {
          "name": "stdout",
          "output_type": "stream",
          "text": [
            "Epoch 1/10 | Iter 13/49 | D 5.2283e-01 | G 1.5917e+00 | Real 0.60 | Fake 0.32\n"
          ]
        },
        {
          "name": "stderr",
          "output_type": "stream",
          "text": [
            "\n",
            " 31%|███       | 15/49 [05:08<11:36, 20.49s/it]\u001b[A"
          ]
        },
        {
          "name": "stdout",
          "output_type": "stream",
          "text": [
            "Epoch 1/10 | Iter 14/49 | D 5.0867e-01 | G 2.3149e+00 | Real 0.82 | Fake 0.50\n"
          ]
        },
        {
          "name": "stderr",
          "output_type": "stream",
          "text": [
            "\n",
            " 33%|███▎      | 16/49 [05:29<11:17, 20.52s/it]\u001b[A"
          ]
        },
        {
          "name": "stdout",
          "output_type": "stream",
          "text": [
            "Epoch 1/10 | Iter 15/49 | D 4.4838e-01 | G 2.4172e+00 | Real 0.73 | Fake 0.27\n"
          ]
        },
        {
          "name": "stderr",
          "output_type": "stream",
          "text": [
            "\n",
            " 35%|███▍      | 17/49 [05:50<10:56, 20.53s/it]\u001b[A"
          ]
        },
        {
          "name": "stdout",
          "output_type": "stream",
          "text": [
            "Epoch 1/10 | Iter 16/49 | D 4.9453e-01 | G 1.8803e+00 | Real 0.64 | Fake 0.27\n"
          ]
        },
        {
          "name": "stderr",
          "output_type": "stream",
          "text": [
            "\n",
            " 37%|███▋      | 18/49 [06:10<10:37, 20.57s/it]\u001b[A"
          ]
        },
        {
          "name": "stdout",
          "output_type": "stream",
          "text": [
            "Epoch 1/10 | Iter 17/49 | D 5.2214e-01 | G 2.5582e+00 | Real 0.93 | Fake 0.48\n"
          ]
        },
        {
          "name": "stderr",
          "output_type": "stream",
          "text": [
            "\n",
            " 39%|███▉      | 19/49 [06:31<10:15, 20.52s/it]\u001b[A"
          ]
        },
        {
          "name": "stdout",
          "output_type": "stream",
          "text": [
            "Epoch 1/10 | Iter 18/49 | D 3.0969e-01 | G 2.3871e+00 | Real 0.68 | Fake 0.15\n",
            "Epoch 1/10 | Iter 19/49 | D 3.0113e-01 | G 2.5181e+00 | Real 0.81 | Fake 0.28\n",
            "Epoch 1/10 | Iter 19/49 | D 3.0113e-01 | G 2.5181e+00 | Real 0.81 | Fake 0.28\n"
          ]
        },
        {
          "name": "stderr",
          "output_type": "stream",
          "text": [
            "\n",
            " 41%|████      | 20/49 [06:51<09:57, 20.59s/it]\u001b[A"
          ]
        },
        {
          "name": "stdout",
          "output_type": "stream",
          "text": [
            ".....Writing sample generated videos......\n"
          ]
        },
        {
          "name": "stderr",
          "output_type": "stream",
          "text": [
            "\n",
            " 43%|████▎     | 21/49 [07:12<09:33, 20.47s/it]\u001b[A"
          ]
        },
        {
          "name": "stdout",
          "output_type": "stream",
          "text": [
            "Epoch 1/10 | Iter 20/49 | D 8.1404e-01 | G 2.5124e+00 | Real 0.56 | Fake 0.48\n"
          ]
        },
        {
          "name": "stderr",
          "output_type": "stream",
          "text": [
            "\n",
            " 45%|████▍     | 22/49 [07:32<09:09, 20.34s/it]\u001b[A"
          ]
        },
        {
          "name": "stdout",
          "output_type": "stream",
          "text": [
            "Epoch 1/10 | Iter 21/49 | D 6.9589e-01 | G 1.9903e+00 | Real 0.63 | Fake 0.46\n"
          ]
        },
        {
          "name": "stderr",
          "output_type": "stream",
          "text": [
            "\n",
            " 47%|████▋     | 23/49 [07:52<08:50, 20.41s/it]\u001b[A"
          ]
        },
        {
          "name": "stdout",
          "output_type": "stream",
          "text": [
            "Epoch 1/10 | Iter 22/49 | D 7.0570e-01 | G 3.0548e+00 | Real 0.53 | Fake 0.38\n"
          ]
        },
        {
          "name": "stderr",
          "output_type": "stream",
          "text": [
            "\n",
            " 49%|████▉     | 24/49 [08:13<08:33, 20.52s/it]\u001b[A"
          ]
        },
        {
          "name": "stdout",
          "output_type": "stream",
          "text": [
            "Epoch 1/10 | Iter 23/49 | D 5.2696e-01 | G 2.4807e+00 | Real 0.63 | Fake 0.23\n"
          ]
        },
        {
          "name": "stderr",
          "output_type": "stream",
          "text": [
            "\n",
            " 51%|█████     | 25/49 [08:33<08:12, 20.51s/it]\u001b[A"
          ]
        },
        {
          "name": "stdout",
          "output_type": "stream",
          "text": [
            "Epoch 1/10 | Iter 24/49 | D 4.3045e-01 | G 2.4285e+00 | Real 0.66 | Fake 0.26\n"
          ]
        },
        {
          "name": "stderr",
          "output_type": "stream",
          "text": [
            "\n",
            " 53%|█████▎    | 26/49 [08:54<07:51, 20.51s/it]\u001b[A"
          ]
        },
        {
          "name": "stdout",
          "output_type": "stream",
          "text": [
            "Epoch 1/10 | Iter 25/49 | D 7.0629e-01 | G 3.7080e+00 | Real 0.62 | Fake 0.44\n"
          ]
        },
        {
          "name": "stderr",
          "output_type": "stream",
          "text": [
            "\n",
            " 55%|█████▌    | 27/49 [09:14<07:31, 20.50s/it]\u001b[A"
          ]
        },
        {
          "name": "stdout",
          "output_type": "stream",
          "text": [
            "Epoch 1/10 | Iter 26/49 | D 4.4038e-01 | G 3.2038e+00 | Real 0.65 | Fake 0.26\n"
          ]
        },
        {
          "name": "stderr",
          "output_type": "stream",
          "text": [
            "\n",
            " 57%|█████▋    | 28/49 [09:35<07:11, 20.56s/it]\u001b[A"
          ]
        },
        {
          "name": "stdout",
          "output_type": "stream",
          "text": [
            "Epoch 1/10 | Iter 27/49 | D 7.3804e-01 | G 1.3658e+00 | Real 0.53 | Fake 0.34\n"
          ]
        },
        {
          "name": "stderr",
          "output_type": "stream",
          "text": [
            "\n",
            " 59%|█████▉    | 29/49 [09:56<06:50, 20.54s/it]\u001b[A"
          ]
        },
        {
          "name": "stdout",
          "output_type": "stream",
          "text": [
            "Epoch 1/10 | Iter 28/49 | D 6.6530e-01 | G 2.5386e+00 | Real 0.83 | Fake 0.56\n",
            "Epoch 1/10 | Iter 29/49 | D 4.4510e-01 | G 2.6936e+00 | Real 0.69 | Fake 0.30\n",
            "Epoch 1/10 | Iter 29/49 | D 4.4510e-01 | G 2.6936e+00 | Real 0.69 | Fake 0.30\n"
          ]
        },
        {
          "name": "stderr",
          "output_type": "stream",
          "text": [
            "\n",
            " 61%|██████    | 30/49 [10:16<06:30, 20.58s/it]\u001b[A"
          ]
        },
        {
          "name": "stdout",
          "output_type": "stream",
          "text": [
            ".....Writing sample generated videos......\n"
          ]
        },
        {
          "name": "stderr",
          "output_type": "stream",
          "text": [
            "\n",
            " 63%|██████▎   | 31/49 [10:37<06:09, 20.55s/it]\u001b[A"
          ]
        },
        {
          "name": "stdout",
          "output_type": "stream",
          "text": [
            "Epoch 1/10 | Iter 30/49 | D 5.5914e-01 | G 2.5825e+00 | Real 0.67 | Fake 0.33\n"
          ]
        },
        {
          "name": "stderr",
          "output_type": "stream",
          "text": [
            "\n",
            " 65%|██████▌   | 32/49 [10:57<05:49, 20.53s/it]\u001b[A"
          ]
        },
        {
          "name": "stdout",
          "output_type": "stream",
          "text": [
            "Epoch 1/10 | Iter 31/49 | D 9.4003e-01 | G 8.5722e-01 | Real 0.33 | Fake 0.29\n"
          ]
        },
        {
          "name": "stderr",
          "output_type": "stream",
          "text": [
            "\n",
            " 67%|██████▋   | 33/49 [11:18<05:28, 20.54s/it]\u001b[A"
          ]
        },
        {
          "name": "stdout",
          "output_type": "stream",
          "text": [
            "Epoch 1/10 | Iter 32/49 | D 1.4280e+00 | G 9.5199e-01 | Real 0.48 | Fake 0.64\n"
          ]
        },
        {
          "name": "stderr",
          "output_type": "stream",
          "text": [
            "\n"
          ]
        },
        {
          "name": "stdout",
          "output_type": "stream",
          "text": [
            "Epoch 1/10 | Iter 33/49 | D 6.7431e-01 | G 2.7020e+00 | Real 0.74 | Fake 0.51\n"
          ]
        },
        {
          "name": "stderr",
          "output_type": "stream",
          "text": [
            " 69%|██████▉   | 34/49 [11:38<05:07, 20.51s/it]\u001b[A\n",
            " 71%|███████▏  | 35/49 [11:59<04:47, 20.50s/it]\u001b[A"
          ]
        },
        {
          "name": "stdout",
          "output_type": "stream",
          "text": [
            "Epoch 1/10 | Iter 34/49 | D 3.7953e-01 | G 2.7380e+00 | Real 0.65 | Fake 0.21\n"
          ]
        },
        {
          "name": "stderr",
          "output_type": "stream",
          "text": [
            "\n",
            " 73%|███████▎  | 36/49 [12:19<04:26, 20.49s/it]\u001b[A"
          ]
        },
        {
          "name": "stdout",
          "output_type": "stream",
          "text": [
            "Epoch 1/10 | Iter 35/49 | D 2.3883e-01 | G 2.4889e+00 | Real 0.86 | Fake 0.24\n"
          ]
        },
        {
          "name": "stderr",
          "output_type": "stream",
          "text": [
            "\n",
            " 76%|███████▌  | 37/49 [12:39<04:04, 20.40s/it]\u001b[A"
          ]
        },
        {
          "name": "stdout",
          "output_type": "stream",
          "text": [
            "Epoch 1/10 | Iter 36/49 | D 1.6415e-01 | G 2.9178e+00 | Real 0.95 | Fake 0.23\n"
          ]
        },
        {
          "name": "stderr",
          "output_type": "stream",
          "text": [
            "\n",
            " 78%|███████▊  | 38/49 [13:00<03:44, 20.42s/it]\u001b[A"
          ]
        },
        {
          "name": "stdout",
          "output_type": "stream",
          "text": [
            "Epoch 1/10 | Iter 37/49 | D 3.3726e-01 | G 2.9204e+00 | Real 0.81 | Fake 0.28\n"
          ]
        },
        {
          "name": "stderr",
          "output_type": "stream",
          "text": [
            "\n",
            " 80%|███████▉  | 39/49 [13:21<03:25, 20.50s/it]\u001b[A"
          ]
        },
        {
          "name": "stdout",
          "output_type": "stream",
          "text": [
            "Epoch 1/10 | Iter 38/49 | D 3.7490e-01 | G 3.3176e+00 | Real 0.74 | Fake 0.28\n",
            "Epoch 1/10 | Iter 39/49 | D 1.3459e-01 | G 4.0505e+00 | Real 0.91 | Fake 0.14\n",
            "Epoch 1/10 | Iter 39/49 | D 1.3459e-01 | G 4.0505e+00 | Real 0.91 | Fake 0.14\n"
          ]
        },
        {
          "name": "stderr",
          "output_type": "stream",
          "text": [
            "\n",
            " 82%|████████▏ | 40/49 [13:41<03:05, 20.58s/it]\u001b[A"
          ]
        },
        {
          "name": "stdout",
          "output_type": "stream",
          "text": [
            ".....Writing sample generated videos......\n"
          ]
        },
        {
          "name": "stderr",
          "output_type": "stream",
          "text": [
            "\n",
            " 84%|████████▎ | 41/49 [14:02<02:43, 20.46s/it]\u001b[A"
          ]
        },
        {
          "name": "stdout",
          "output_type": "stream",
          "text": [
            "Epoch 1/10 | Iter 40/49 | D 2.7316e-01 | G 2.8386e+00 | Real 0.73 | Fake 0.13\n"
          ]
        },
        {
          "name": "stderr",
          "output_type": "stream",
          "text": [
            "\n",
            " 86%|████████▌ | 42/49 [14:22<02:23, 20.48s/it]\u001b[A"
          ]
        },
        {
          "name": "stdout",
          "output_type": "stream",
          "text": [
            "Epoch 1/10 | Iter 41/49 | D 5.2752e-01 | G 4.5994e+00 | Real 0.94 | Fake 0.59\n"
          ]
        },
        {
          "name": "stderr",
          "output_type": "stream",
          "text": [
            "\n",
            " 88%|████████▊ | 43/49 [14:42<02:02, 20.45s/it]\u001b[A"
          ]
        },
        {
          "name": "stdout",
          "output_type": "stream",
          "text": [
            "Epoch 1/10 | Iter 42/49 | D 1.0808e+00 | G 1.9372e+00 | Real 0.42 | Fake 0.12\n"
          ]
        },
        {
          "name": "stderr",
          "output_type": "stream",
          "text": [
            "\n",
            " 90%|████████▉ | 44/49 [15:03<01:42, 20.50s/it]\u001b[A"
          ]
        },
        {
          "name": "stdout",
          "output_type": "stream",
          "text": [
            "Epoch 1/10 | Iter 43/49 | D 7.3680e-01 | G 2.0261e+00 | Real 0.53 | Fake 0.48\n"
          ]
        },
        {
          "name": "stderr",
          "output_type": "stream",
          "text": [
            "\n",
            " 92%|█████████▏| 45/49 [15:24<01:22, 20.51s/it]\u001b[A"
          ]
        },
        {
          "name": "stdout",
          "output_type": "stream",
          "text": [
            "Epoch 1/10 | Iter 44/49 | D 7.1437e-01 | G 3.1222e+00 | Real 0.64 | Fake 0.45\n"
          ]
        },
        {
          "name": "stderr",
          "output_type": "stream",
          "text": [
            "\n",
            " 94%|█████████▍| 46/49 [15:44<01:01, 20.55s/it]\u001b[A"
          ]
        },
        {
          "name": "stdout",
          "output_type": "stream",
          "text": [
            "Epoch 1/10 | Iter 45/49 | D 4.2433e-01 | G 1.6373e+00 | Real 0.59 | Fake 0.22\n"
          ]
        },
        {
          "name": "stderr",
          "output_type": "stream",
          "text": [
            "\n",
            " 96%|█████████▌| 47/49 [16:05<00:41, 20.54s/it]\u001b[A"
          ]
        },
        {
          "name": "stdout",
          "output_type": "stream",
          "text": [
            "Epoch 1/10 | Iter 46/49 | D 8.7627e-01 | G 2.4448e+00 | Real 0.63 | Fake 0.56\n"
          ]
        },
        {
          "name": "stderr",
          "output_type": "stream",
          "text": [
            "\n",
            " 98%|█████████▊| 48/49 [16:26<00:20, 20.65s/it]\u001b[A"
          ]
        },
        {
          "name": "stdout",
          "output_type": "stream",
          "text": [
            "Epoch 1/10 | Iter 47/49 | D 4.7991e-01 | G 2.4549e+00 | Real 0.61 | Fake 0.29\n",
            "Epoch 1/10 | Iter 48/49 | D 3.5363e-01 | G 3.0832e+00 | Real 0.76 | Fake 0.29\n",
            "Epoch 1/10 | Iter 48/49 | D 3.5363e-01 | G 3.0832e+00 | Real 0.76 | Fake 0.29\n"
          ]
        },
        {
          "name": "stderr",
          "output_type": "stream",
          "text": [
            "\n",
            "100%|██████████| 49/49 [16:47<00:00, 20.70s/it]\u001b[A\n",
            " 20%|██        | 2/10 [33:45<2:14:53, 1011.68s/it]"
          ]
        },
        {
          "name": "stdout",
          "output_type": "stream",
          "text": [
            ".....Writing sample generated videos......\n"
          ]
        },
        {
          "name": "stderr",
          "output_type": "stream",
          "text": [
            "\n",
            "  0%|          | 0/49 [00:00<?, ?it/s]\u001b[A\n",
            "  2%|▏         | 1/49 [00:20<16:40, 20.85s/it]\u001b[A"
          ]
        },
        {
          "name": "stdout",
          "output_type": "stream",
          "text": [
            "Epoch 2/10 | Iter 0/49 | D 4.7802e-01 | G 1.5863e+00 | Real 0.52 | Fake 0.16\n"
          ]
        },
        {
          "name": "stderr",
          "output_type": "stream",
          "text": [
            "\n",
            "  4%|▍         | 2/49 [00:41<16:11, 20.66s/it]\u001b[A"
          ]
        },
        {
          "name": "stdout",
          "output_type": "stream",
          "text": [
            "Epoch 2/10 | Iter 1/49 | D 3.4154e-01 | G 3.3362e+00 | Real 0.89 | Fake 0.38\n"
          ]
        },
        {
          "name": "stderr",
          "output_type": "stream",
          "text": [
            "\n",
            "  6%|▌         | 3/49 [01:02<15:52, 20.71s/it]\u001b[A"
          ]
        },
        {
          "name": "stdout",
          "output_type": "stream",
          "text": [
            "Epoch 2/10 | Iter 2/49 | D 2.1785e-01 | G 3.1174e+00 | Real 0.82 | Fake 0.08\n"
          ]
        },
        {
          "name": "stderr",
          "output_type": "stream",
          "text": [
            "\n",
            "  8%|▊         | 4/49 [01:22<15:31, 20.70s/it]\u001b[A"
          ]
        },
        {
          "name": "stdout",
          "output_type": "stream",
          "text": [
            "Epoch 2/10 | Iter 3/49 | D 2.9675e-01 | G 1.7745e+00 | Real 0.68 | Fake 0.12\n"
          ]
        },
        {
          "name": "stderr",
          "output_type": "stream",
          "text": [
            "\n",
            " 10%|█         | 5/49 [01:43<15:06, 20.59s/it]\u001b[A"
          ]
        },
        {
          "name": "stdout",
          "output_type": "stream",
          "text": [
            "Epoch 2/10 | Iter 4/49 | D 4.4259e-01 | G 4.1593e+00 | Real 0.96 | Fake 0.53\n"
          ]
        },
        {
          "name": "stderr",
          "output_type": "stream",
          "text": [
            "\n",
            " 12%|█▏        | 6/49 [02:03<14:44, 20.58s/it]\u001b[A"
          ]
        },
        {
          "name": "stdout",
          "output_type": "stream",
          "text": [
            "Epoch 2/10 | Iter 5/49 | D 1.1421e-01 | G 4.6795e+00 | Real 0.85 | Fake 0.04\n"
          ]
        },
        {
          "name": "stderr",
          "output_type": "stream",
          "text": [
            "\n",
            " 14%|█▍        | 7/49 [02:24<14:29, 20.70s/it]\u001b[A"
          ]
        },
        {
          "name": "stdout",
          "output_type": "stream",
          "text": [
            "Epoch 2/10 | Iter 6/49 | D 2.0708e-01 | G 1.8398e+00 | Real 0.71 | Fake 0.03\n"
          ]
        },
        {
          "name": "stderr",
          "output_type": "stream",
          "text": [
            "\n",
            " 16%|█▋        | 8/49 [02:44<14:00, 20.50s/it]\u001b[A"
          ]
        },
        {
          "name": "stdout",
          "output_type": "stream",
          "text": [
            "Epoch 2/10 | Iter 7/49 | D 5.3738e-01 | G 1.9144e+00 | Real 0.95 | Fake 0.59\n"
          ]
        },
        {
          "name": "stderr",
          "output_type": "stream",
          "text": [
            "\n",
            " 18%|█▊        | 9/49 [03:05<13:46, 20.65s/it]\u001b[A"
          ]
        },
        {
          "name": "stdout",
          "output_type": "stream",
          "text": [
            "Epoch 2/10 | Iter 8/49 | D 6.7877e-01 | G 2.5937e+00 | Real 0.63 | Fake 0.40\n",
            "Epoch 2/10 | Iter 9/49 | D 1.1311e+00 | G 1.3235e+00 | Real 0.37 | Fake 0.30\n",
            "Epoch 2/10 | Iter 9/49 | D 1.1311e+00 | G 1.3235e+00 | Real 0.37 | Fake 0.30\n"
          ]
        },
        {
          "name": "stderr",
          "output_type": "stream",
          "text": [
            "\n",
            " 20%|██        | 10/49 [03:26<13:29, 20.77s/it]\u001b[A"
          ]
        },
        {
          "name": "stdout",
          "output_type": "stream",
          "text": [
            ".....Writing sample generated videos......\n"
          ]
        },
        {
          "name": "stderr",
          "output_type": "stream",
          "text": [
            "\n",
            " 22%|██▏       | 11/49 [03:47<13:11, 20.82s/it]\u001b[A"
          ]
        },
        {
          "name": "stdout",
          "output_type": "stream",
          "text": [
            "Epoch 2/10 | Iter 10/49 | D 1.0068e+00 | G 2.4388e+00 | Real 0.48 | Fake 0.52\n"
          ]
        },
        {
          "name": "stderr",
          "output_type": "stream",
          "text": [
            "\n",
            " 24%|██▍       | 12/49 [04:08<12:48, 20.77s/it]\u001b[A"
          ]
        },
        {
          "name": "stdout",
          "output_type": "stream",
          "text": [
            "Epoch 2/10 | Iter 11/49 | D 7.6520e-01 | G 1.2142e+00 | Real 0.40 | Fake 0.28\n"
          ]
        },
        {
          "name": "stderr",
          "output_type": "stream",
          "text": [
            "\n",
            " 27%|██▋       | 13/49 [04:29<12:28, 20.80s/it]\u001b[A"
          ]
        },
        {
          "name": "stdout",
          "output_type": "stream",
          "text": [
            "Epoch 2/10 | Iter 12/49 | D 8.4515e-01 | G 1.6603e+00 | Real 0.72 | Fake 0.64\n"
          ]
        },
        {
          "name": "stderr",
          "output_type": "stream",
          "text": [
            "\n",
            " 29%|██▊       | 14/49 [04:50<12:07, 20.80s/it]\u001b[A"
          ]
        },
        {
          "name": "stdout",
          "output_type": "stream",
          "text": [
            "Epoch 2/10 | Iter 13/49 | D 5.6165e-01 | G 2.2360e+00 | Real 0.62 | Fake 0.33\n"
          ]
        },
        {
          "name": "stderr",
          "output_type": "stream",
          "text": [
            "\n",
            " 31%|███       | 15/49 [05:10<11:47, 20.80s/it]\u001b[A"
          ]
        },
        {
          "name": "stdout",
          "output_type": "stream",
          "text": [
            "Epoch 2/10 | Iter 14/49 | D 5.3979e-01 | G 2.7649e+00 | Real 0.64 | Fake 0.38\n"
          ]
        },
        {
          "name": "stderr",
          "output_type": "stream",
          "text": [
            "\n",
            " 33%|███▎      | 16/49 [05:31<11:25, 20.78s/it]\u001b[A"
          ]
        },
        {
          "name": "stdout",
          "output_type": "stream",
          "text": [
            "Epoch 2/10 | Iter 15/49 | D 4.5082e-01 | G 2.0380e+00 | Real 0.71 | Fake 0.30\n"
          ]
        },
        {
          "name": "stderr",
          "output_type": "stream",
          "text": [
            "\n",
            " 35%|███▍      | 17/49 [05:52<11:06, 20.83s/it]\u001b[A"
          ]
        },
        {
          "name": "stdout",
          "output_type": "stream",
          "text": [
            "Epoch 2/10 | Iter 16/49 | D 5.7250e-01 | G 2.2887e+00 | Real 0.83 | Fake 0.42\n"
          ]
        },
        {
          "name": "stderr",
          "output_type": "stream",
          "text": [
            "\n",
            " 37%|███▋      | 18/49 [06:13<10:45, 20.81s/it]\u001b[A"
          ]
        },
        {
          "name": "stdout",
          "output_type": "stream",
          "text": [
            "Epoch 2/10 | Iter 17/49 | D 4.6807e-01 | G 3.0776e+00 | Real 0.80 | Fake 0.40\n"
          ]
        },
        {
          "name": "stderr",
          "output_type": "stream",
          "text": [
            "\n",
            " 39%|███▉      | 19/49 [06:34<10:24, 20.83s/it]\u001b[A"
          ]
        },
        {
          "name": "stdout",
          "output_type": "stream",
          "text": [
            "Epoch 2/10 | Iter 18/49 | D 5.0364e-01 | G 2.3207e+00 | Real 0.57 | Fake 0.17\n",
            "Epoch 2/10 | Iter 19/49 | D 3.1516e-01 | G 1.5381e+00 | Real 0.76 | Fake 0.25\n",
            "Epoch 2/10 | Iter 19/49 | D 3.1516e-01 | G 1.5381e+00 | Real 0.76 | Fake 0.25\n"
          ]
        },
        {
          "name": "stderr",
          "output_type": "stream",
          "text": [
            "\n",
            " 41%|████      | 20/49 [06:54<10:03, 20.82s/it]\u001b[A"
          ]
        },
        {
          "name": "stdout",
          "output_type": "stream",
          "text": [
            ".....Writing sample generated videos......\n"
          ]
        },
        {
          "name": "stderr",
          "output_type": "stream",
          "text": [
            "\n",
            " 43%|████▎     | 21/49 [07:15<09:41, 20.77s/it]\u001b[A"
          ]
        },
        {
          "name": "stdout",
          "output_type": "stream",
          "text": [
            "Epoch 2/10 | Iter 20/49 | D 7.2206e-01 | G 3.2815e+00 | Real 0.70 | Fake 0.51\n"
          ]
        },
        {
          "name": "stderr",
          "output_type": "stream",
          "text": [
            "\n",
            " 45%|████▍     | 22/49 [07:35<09:16, 20.60s/it]\u001b[A"
          ]
        },
        {
          "name": "stdout",
          "output_type": "stream",
          "text": [
            "Epoch 2/10 | Iter 21/49 | D 2.8263e-01 | G 3.4664e+00 | Real 0.77 | Fake 0.15\n"
          ]
        },
        {
          "name": "stderr",
          "output_type": "stream",
          "text": [
            "\n",
            " 47%|████▋     | 23/49 [07:56<08:58, 20.72s/it]\u001b[A"
          ]
        },
        {
          "name": "stdout",
          "output_type": "stream",
          "text": [
            "Epoch 2/10 | Iter 22/49 | D 4.9480e-01 | G 3.6059e+00 | Real 0.57 | Fake 0.20\n"
          ]
        },
        {
          "name": "stderr",
          "output_type": "stream",
          "text": [
            "\n",
            " 49%|████▉     | 24/49 [08:17<08:37, 20.69s/it]\u001b[A"
          ]
        },
        {
          "name": "stdout",
          "output_type": "stream",
          "text": [
            "Epoch 2/10 | Iter 23/49 | D 3.0538e-01 | G 3.4644e+00 | Real 0.75 | Fake 0.16\n"
          ]
        },
        {
          "name": "stderr",
          "output_type": "stream",
          "text": [
            "\n",
            " 51%|█████     | 25/49 [08:38<08:18, 20.78s/it]\u001b[A"
          ]
        },
        {
          "name": "stdout",
          "output_type": "stream",
          "text": [
            "Epoch 2/10 | Iter 24/49 | D 1.2596e-01 | G 3.0247e+00 | Real 0.87 | Fake 0.10\n"
          ]
        },
        {
          "name": "stderr",
          "output_type": "stream",
          "text": [
            "\n",
            " 53%|█████▎    | 26/49 [08:59<07:58, 20.81s/it]\u001b[A"
          ]
        },
        {
          "name": "stdout",
          "output_type": "stream",
          "text": [
            "Epoch 2/10 | Iter 25/49 | D 2.6579e-01 | G 3.6044e+00 | Real 0.80 | Fake 0.22\n"
          ]
        },
        {
          "name": "stderr",
          "output_type": "stream",
          "text": [
            "\n",
            " 55%|█████▌    | 27/49 [09:20<07:38, 20.82s/it]\u001b[A"
          ]
        },
        {
          "name": "stdout",
          "output_type": "stream",
          "text": [
            "Epoch 2/10 | Iter 26/49 | D 2.9147e-01 | G 3.5556e+00 | Real 0.73 | Fake 0.14\n"
          ]
        },
        {
          "name": "stderr",
          "output_type": "stream",
          "text": [
            "\n",
            " 57%|█████▋    | 28/49 [09:40<07:15, 20.72s/it]\u001b[A"
          ]
        },
        {
          "name": "stdout",
          "output_type": "stream",
          "text": [
            "Epoch 2/10 | Iter 27/49 | D 4.6354e-01 | G 1.0494e-01 | Real 0.53 | Fake 0.14\n"
          ]
        },
        {
          "name": "stderr",
          "output_type": "stream",
          "text": [
            "\n",
            " 59%|█████▉    | 29/49 [10:01<06:56, 20.85s/it]\u001b[A"
          ]
        },
        {
          "name": "stdout",
          "output_type": "stream",
          "text": [
            "Epoch 2/10 | Iter 28/49 | D 2.0200e+00 | G 2.3920e+00 | Real 0.94 | Fake 0.95\n",
            "Epoch 2/10 | Iter 29/49 | D 4.1177e-01 | G 2.5810e+00 | Real 0.83 | Fake 0.26\n",
            "Epoch 2/10 | Iter 29/49 | D 4.1177e-01 | G 2.5810e+00 | Real 0.83 | Fake 0.26\n"
          ]
        },
        {
          "name": "stderr",
          "output_type": "stream",
          "text": [
            "\n",
            " 61%|██████    | 30/49 [10:22<06:36, 20.89s/it]\u001b[A"
          ]
        },
        {
          "name": "stdout",
          "output_type": "stream",
          "text": [
            ".....Writing sample generated videos......\n"
          ]
        },
        {
          "name": "stderr",
          "output_type": "stream",
          "text": [
            "\n",
            " 63%|██████▎   | 31/49 [10:43<06:16, 20.93s/it]\u001b[A"
          ]
        },
        {
          "name": "stdout",
          "output_type": "stream",
          "text": [
            "Epoch 2/10 | Iter 30/49 | D 4.7442e-01 | G 4.0640e+00 | Real 0.77 | Fake 0.32\n"
          ]
        },
        {
          "name": "stderr",
          "output_type": "stream",
          "text": [
            "\n",
            " 65%|██████▌   | 32/49 [11:04<05:54, 20.85s/it]\u001b[A"
          ]
        },
        {
          "name": "stdout",
          "output_type": "stream",
          "text": [
            "Epoch 2/10 | Iter 31/49 | D 4.6194e-01 | G 2.6754e+00 | Real 0.59 | Fake 0.16\n"
          ]
        },
        {
          "name": "stderr",
          "output_type": "stream",
          "text": [
            "\n",
            " 67%|██████▋   | 33/49 [11:25<05:34, 20.93s/it]\u001b[A"
          ]
        },
        {
          "name": "stdout",
          "output_type": "stream",
          "text": [
            "Epoch 2/10 | Iter 32/49 | D 6.9041e-01 | G 2.2370e+00 | Real 0.56 | Fake 0.30\n"
          ]
        },
        {
          "name": "stderr",
          "output_type": "stream",
          "text": [
            "\n",
            " 69%|██████▉   | 34/49 [11:46<05:12, 20.86s/it]\u001b[A"
          ]
        },
        {
          "name": "stdout",
          "output_type": "stream",
          "text": [
            "Epoch 2/10 | Iter 33/49 | D 2.2491e-01 | G 3.6653e+00 | Real 0.87 | Fake 0.24\n"
          ]
        },
        {
          "name": "stderr",
          "output_type": "stream",
          "text": [
            "\n",
            " 71%|███████▏  | 35/49 [12:10<05:05, 21.79s/it]\u001b[A"
          ]
        },
        {
          "name": "stdout",
          "output_type": "stream",
          "text": [
            "Epoch 2/10 | Iter 34/49 | D 1.1488e-01 | G 3.8565e+00 | Real 0.91 | Fake 0.11\n",
            "Epoch 2/10 | Iter 35/49 | D 6.9898e-02 | G 4.0247e+00 | Real 0.94 | Fake 0.07\n"
          ]
        },
        {
          "name": "stderr",
          "output_type": "stream",
          "text": [
            "\n",
            " 73%|███████▎  | 36/49 [12:33<04:48, 22.20s/it]\u001b[A\n",
            " 76%|███████▌  | 37/49 [12:57<04:32, 22.69s/it]\u001b[A"
          ]
        },
        {
          "name": "stdout",
          "output_type": "stream",
          "text": [
            "Epoch 2/10 | Iter 36/49 | D 5.1358e-02 | G 3.9107e+00 | Real 0.95 | Fake 0.05\n"
          ]
        },
        {
          "name": "stderr",
          "output_type": "stream",
          "text": [
            "\n",
            " 78%|███████▊  | 38/49 [13:19<04:07, 22.47s/it]\u001b[A"
          ]
        },
        {
          "name": "stdout",
          "output_type": "stream",
          "text": [
            "Epoch 2/10 | Iter 37/49 | D 6.9891e-02 | G 3.5161e+00 | Real 0.95 | Fake 0.08\n"
          ]
        },
        {
          "name": "stderr",
          "output_type": "stream",
          "text": [
            "\n",
            " 80%|███████▉  | 39/49 [13:39<03:39, 21.96s/it]\u001b[A"
          ]
        },
        {
          "name": "stdout",
          "output_type": "stream",
          "text": [
            "Epoch 2/10 | Iter 38/49 | D 1.6596e-01 | G 3.2701e+00 | Real 0.83 | Fake 0.10\n",
            "Epoch 2/10 | Iter 39/49 | D 2.1382e-01 | G 4.3773e+00 | Real 0.92 | Fake 0.27\n",
            "Epoch 2/10 | Iter 39/49 | D 2.1382e-01 | G 4.3773e+00 | Real 0.92 | Fake 0.27\n"
          ]
        },
        {
          "name": "stderr",
          "output_type": "stream",
          "text": [
            "\n",
            " 82%|████████▏ | 40/49 [14:00<03:14, 21.66s/it]\u001b[A"
          ]
        },
        {
          "name": "stdout",
          "output_type": "stream",
          "text": [
            ".....Writing sample generated videos......\n"
          ]
        },
        {
          "name": "stderr",
          "output_type": "stream",
          "text": [
            "\n",
            " 84%|████████▎ | 41/49 [14:21<02:50, 21.36s/it]\u001b[A"
          ]
        },
        {
          "name": "stdout",
          "output_type": "stream",
          "text": [
            "Epoch 2/10 | Iter 40/49 | D 2.8363e-01 | G 3.4911e+00 | Real 0.74 | Fake 0.17\n"
          ]
        },
        {
          "name": "stderr",
          "output_type": "stream",
          "text": [
            "\n",
            " 86%|████████▌ | 42/49 [14:42<02:29, 21.33s/it]\u001b[A"
          ]
        },
        {
          "name": "stdout",
          "output_type": "stream",
          "text": [
            "Epoch 2/10 | Iter 41/49 | D 4.8727e-01 | G 3.9094e+00 | Real 0.71 | Fake 0.37\n",
            "Epoch 2/10 | Iter 42/49 | D 8.7879e-01 | G 1.3732e+00 | Real 0.36 | Fake 0.19\n"
          ]
        },
        {
          "name": "stderr",
          "output_type": "stream",
          "text": [
            "\n",
            " 88%|████████▊ | 43/49 [15:05<02:09, 21.63s/it]\u001b[A\n",
            " 90%|████████▉ | 44/49 [15:26<01:47, 21.43s/it]\u001b[A"
          ]
        },
        {
          "name": "stdout",
          "output_type": "stream",
          "text": [
            "Epoch 2/10 | Iter 43/49 | D 9.0491e-01 | G 4.1414e+00 | Real 0.72 | Fake 0.69\n"
          ]
        },
        {
          "name": "stderr",
          "output_type": "stream",
          "text": [
            "\n",
            " 92%|█████████▏| 45/49 [15:47<01:25, 21.26s/it]\u001b[A"
          ]
        },
        {
          "name": "stdout",
          "output_type": "stream",
          "text": [
            "Epoch 2/10 | Iter 44/49 | D 3.2279e-01 | G 3.9137e+00 | Real 0.74 | Fake 0.14\n"
          ]
        },
        {
          "name": "stderr",
          "output_type": "stream",
          "text": [
            "\n",
            " 94%|█████████▍| 46/49 [16:07<01:03, 21.09s/it]\u001b[A"
          ]
        },
        {
          "name": "stdout",
          "output_type": "stream",
          "text": [
            "Epoch 2/10 | Iter 45/49 | D 2.6280e-01 | G 4.4035e+00 | Real 0.85 | Fake 0.21\n"
          ]
        },
        {
          "name": "stderr",
          "output_type": "stream",
          "text": [
            "\n",
            " 96%|█████████▌| 47/49 [16:28<00:41, 20.98s/it]\u001b[A"
          ]
        },
        {
          "name": "stdout",
          "output_type": "stream",
          "text": [
            "Epoch 2/10 | Iter 46/49 | D 2.4180e-01 | G 2.8021e+00 | Real 0.72 | Fake 0.10\n"
          ]
        },
        {
          "name": "stderr",
          "output_type": "stream",
          "text": [
            "\n",
            " 98%|█████████▊| 48/49 [16:49<00:21, 21.04s/it]\u001b[A"
          ]
        },
        {
          "name": "stdout",
          "output_type": "stream",
          "text": [
            "Epoch 2/10 | Iter 47/49 | D 4.9409e-01 | G 3.6342e+00 | Real 0.75 | Fake 0.42\n",
            "Epoch 2/10 | Iter 48/49 | D 5.4437e-01 | G 2.8119e+00 | Real 0.62 | Fake 0.28\n",
            "Epoch 2/10 | Iter 48/49 | D 5.4437e-01 | G 2.8119e+00 | Real 0.62 | Fake 0.28\n"
          ]
        },
        {
          "name": "stderr",
          "output_type": "stream",
          "text": [
            "\n",
            "100%|██████████| 49/49 [17:10<00:00, 21.06s/it]\u001b[A\n",
            " 30%|███       | 3/10 [50:56<1:59:02, 1020.39s/it]"
          ]
        },
        {
          "name": "stdout",
          "output_type": "stream",
          "text": [
            ".....Writing sample generated videos......\n"
          ]
        },
        {
          "name": "stderr",
          "output_type": "stream",
          "text": [
            "\n",
            "  0%|          | 0/49 [00:00<?, ?it/s]\u001b[A\n",
            "  2%|▏         | 1/49 [00:20<16:42, 20.89s/it]\u001b[A"
          ]
        },
        {
          "name": "stdout",
          "output_type": "stream",
          "text": [
            "Epoch 3/10 | Iter 0/49 | D 4.0943e-01 | G 3.9523e+00 | Real 0.85 | Fake 0.42\n"
          ]
        },
        {
          "name": "stderr",
          "output_type": "stream",
          "text": [
            "\n",
            "  4%|▍         | 2/49 [00:41<16:13, 20.71s/it]\u001b[A"
          ]
        },
        {
          "name": "stdout",
          "output_type": "stream",
          "text": [
            "Epoch 3/10 | Iter 1/49 | D 7.1507e-01 | G 2.6114e+00 | Real 0.45 | Fake 0.22\n"
          ]
        },
        {
          "name": "stderr",
          "output_type": "stream",
          "text": [
            "\n",
            "  6%|▌         | 3/49 [01:04<16:47, 21.89s/it]\u001b[A"
          ]
        },
        {
          "name": "stdout",
          "output_type": "stream",
          "text": [
            "Epoch 3/10 | Iter 2/49 | D 5.9613e-01 | G 5.4426e+00 | Real 0.77 | Fake 0.47\n"
          ]
        },
        {
          "name": "stderr",
          "output_type": "stream",
          "text": [
            "\n",
            "  8%|▊         | 4/49 [01:25<16:06, 21.47s/it]\u001b[A"
          ]
        },
        {
          "name": "stdout",
          "output_type": "stream",
          "text": [
            "Epoch 3/10 | Iter 3/49 | D 3.2120e-01 | G 4.2315e+00 | Real 0.76 | Fake 0.18\n"
          ]
        },
        {
          "name": "stderr",
          "output_type": "stream",
          "text": [
            "\n",
            " 10%|█         | 5/49 [01:46<15:29, 21.12s/it]\u001b[A"
          ]
        },
        {
          "name": "stdout",
          "output_type": "stream",
          "text": [
            "Epoch 3/10 | Iter 4/49 | D 6.2503e-01 | G 5.4066e+00 | Real 0.74 | Fake 0.46\n"
          ]
        },
        {
          "name": "stderr",
          "output_type": "stream",
          "text": [
            "\n",
            " 12%|█▏        | 6/49 [02:07<15:13, 21.24s/it]\u001b[A"
          ]
        },
        {
          "name": "stdout",
          "output_type": "stream",
          "text": [
            "Epoch 3/10 | Iter 5/49 | D 4.3661e-01 | G 5.3388e+00 | Real 0.82 | Fake 0.21\n"
          ]
        },
        {
          "name": "stderr",
          "output_type": "stream",
          "text": [
            "\n",
            " 14%|█▍        | 7/49 [02:28<14:47, 21.12s/it]\u001b[A"
          ]
        },
        {
          "name": "stdout",
          "output_type": "stream",
          "text": [
            "Epoch 3/10 | Iter 6/49 | D 7.6947e-01 | G 5.3185e+00 | Real 0.56 | Fake 0.24\n"
          ]
        },
        {
          "name": "stderr",
          "output_type": "stream",
          "text": [
            "\n",
            " 16%|█▋        | 8/49 [02:48<14:13, 20.82s/it]\u001b[A"
          ]
        },
        {
          "name": "stdout",
          "output_type": "stream",
          "text": [
            "Epoch 3/10 | Iter 7/49 | D 5.2301e-01 | G 5.6910e+00 | Real 0.69 | Fake 0.38\n"
          ]
        },
        {
          "name": "stderr",
          "output_type": "stream",
          "text": [
            "\n",
            " 18%|█▊        | 9/49 [03:09<13:50, 20.77s/it]\u001b[A"
          ]
        },
        {
          "name": "stdout",
          "output_type": "stream",
          "text": [
            "Epoch 3/10 | Iter 8/49 | D 2.3037e-01 | G 4.2390e+00 | Real 0.79 | Fake 0.15\n",
            "Epoch 3/10 | Iter 9/49 | D 1.1876e+00 | G 7.6668e+00 | Real 0.83 | Fake 0.71\n",
            "Epoch 3/10 | Iter 9/49 | D 1.1876e+00 | G 7.6668e+00 | Real 0.83 | Fake 0.71\n"
          ]
        },
        {
          "name": "stderr",
          "output_type": "stream",
          "text": [
            "\n",
            " 20%|██        | 10/49 [03:30<13:31, 20.80s/it]\u001b[A"
          ]
        },
        {
          "name": "stdout",
          "output_type": "stream",
          "text": [
            ".....Writing sample generated videos......\n"
          ]
        },
        {
          "name": "stderr",
          "output_type": "stream",
          "text": [
            "\n",
            " 22%|██▏       | 11/49 [03:50<13:10, 20.80s/it]\u001b[A"
          ]
        },
        {
          "name": "stdout",
          "output_type": "stream",
          "text": [
            "Epoch 3/10 | Iter 10/49 | D 2.2518e+00 | G 3.5990e+00 | Real 0.04 | Fake 0.00\n"
          ]
        },
        {
          "name": "stderr",
          "output_type": "stream",
          "text": [
            "\n",
            " 24%|██▍       | 12/49 [04:11<12:46, 20.71s/it]\u001b[A"
          ]
        },
        {
          "name": "stdout",
          "output_type": "stream",
          "text": [
            "Epoch 3/10 | Iter 11/49 | D 2.7218e-01 | G 1.7869e+00 | Real 0.74 | Fake 0.10\n"
          ]
        },
        {
          "name": "stderr",
          "output_type": "stream",
          "text": [
            "\n",
            " 27%|██▋       | 13/49 [04:31<12:22, 20.63s/it]\u001b[A"
          ]
        },
        {
          "name": "stdout",
          "output_type": "stream",
          "text": [
            "Epoch 3/10 | Iter 12/49 | D 3.8739e-01 | G 2.5146e+00 | Real 0.97 | Fake 0.46\n"
          ]
        },
        {
          "name": "stderr",
          "output_type": "stream",
          "text": [
            "\n",
            " 29%|██▊       | 14/49 [04:52<12:00, 20.59s/it]\u001b[A"
          ]
        },
        {
          "name": "stdout",
          "output_type": "stream",
          "text": [
            "Epoch 3/10 | Iter 13/49 | D 3.7140e-01 | G 2.9058e+00 | Real 0.77 | Fake 0.21\n"
          ]
        },
        {
          "name": "stderr",
          "output_type": "stream",
          "text": [
            "\n",
            " 31%|███       | 15/49 [05:12<11:38, 20.55s/it]\u001b[A"
          ]
        },
        {
          "name": "stdout",
          "output_type": "stream",
          "text": [
            "Epoch 3/10 | Iter 14/49 | D 4.6805e-01 | G 2.9161e+00 | Real 0.74 | Fake 0.16\n"
          ]
        },
        {
          "name": "stderr",
          "output_type": "stream",
          "text": [
            "\n",
            " 33%|███▎      | 16/49 [05:33<11:21, 20.65s/it]\u001b[A"
          ]
        },
        {
          "name": "stdout",
          "output_type": "stream",
          "text": [
            "Epoch 3/10 | Iter 15/49 | D 1.8001e-01 | G 3.1983e+00 | Real 0.91 | Fake 0.20\n"
          ]
        },
        {
          "name": "stderr",
          "output_type": "stream",
          "text": [
            "\n",
            " 35%|███▍      | 17/49 [05:54<11:01, 20.68s/it]\u001b[A"
          ]
        },
        {
          "name": "stdout",
          "output_type": "stream",
          "text": [
            "Epoch 3/10 | Iter 16/49 | D 1.6545e-01 | G 3.4664e+00 | Real 0.89 | Fake 0.15\n"
          ]
        },
        {
          "name": "stderr",
          "output_type": "stream",
          "text": [
            "\n",
            " 37%|███▋      | 18/49 [06:15<10:41, 20.69s/it]\u001b[A"
          ]
        },
        {
          "name": "stdout",
          "output_type": "stream",
          "text": [
            "Epoch 3/10 | Iter 17/49 | D 1.6668e-01 | G 3.7471e+00 | Real 0.90 | Fake 0.17\n"
          ]
        },
        {
          "name": "stderr",
          "output_type": "stream",
          "text": [
            "\n",
            " 39%|███▉      | 19/49 [06:35<10:20, 20.69s/it]\u001b[A"
          ]
        },
        {
          "name": "stdout",
          "output_type": "stream",
          "text": [
            "Epoch 3/10 | Iter 18/49 | D 1.9151e-01 | G 4.3392e+00 | Real 0.95 | Fake 0.23\n",
            "Epoch 3/10 | Iter 19/49 | D 1.1570e-01 | G 4.7585e+00 | Real 0.96 | Fake 0.16\n",
            "Epoch 3/10 | Iter 19/49 | D 1.1570e-01 | G 4.7585e+00 | Real 0.96 | Fake 0.16\n"
          ]
        },
        {
          "name": "stderr",
          "output_type": "stream",
          "text": [
            "\n",
            " 41%|████      | 20/49 [06:56<10:01, 20.75s/it]\u001b[A"
          ]
        },
        {
          "name": "stdout",
          "output_type": "stream",
          "text": [
            ".....Writing sample generated videos......\n"
          ]
        },
        {
          "name": "stderr",
          "output_type": "stream",
          "text": [
            "\n",
            " 43%|████▎     | 21/49 [07:17<09:37, 20.62s/it]\u001b[A"
          ]
        },
        {
          "name": "stdout",
          "output_type": "stream",
          "text": [
            "Epoch 3/10 | Iter 20/49 | D 6.6891e-02 | G 4.9005e+00 | Real 0.95 | Fake 0.07\n"
          ]
        },
        {
          "name": "stderr",
          "output_type": "stream",
          "text": [
            "\n",
            " 45%|████▍     | 22/49 [07:37<09:14, 20.52s/it]\u001b[A"
          ]
        },
        {
          "name": "stdout",
          "output_type": "stream",
          "text": [
            "Epoch 3/10 | Iter 21/49 | D 7.9096e-02 | G 4.5413e+00 | Real 0.94 | Fake 0.09\n"
          ]
        },
        {
          "name": "stderr",
          "output_type": "stream",
          "text": [
            "\n",
            " 47%|████▋     | 23/49 [07:58<08:56, 20.63s/it]\u001b[A"
          ]
        },
        {
          "name": "stdout",
          "output_type": "stream",
          "text": [
            "Epoch 3/10 | Iter 22/49 | D 1.6799e-01 | G 4.3388e+00 | Real 0.85 | Fake 0.14\n"
          ]
        },
        {
          "name": "stderr",
          "output_type": "stream",
          "text": [
            "\n",
            " 49%|████▉     | 24/49 [08:19<08:37, 20.69s/it]\u001b[A"
          ]
        },
        {
          "name": "stdout",
          "output_type": "stream",
          "text": [
            "Epoch 3/10 | Iter 23/49 | D 2.4959e-01 | G 5.0126e+00 | Real 0.79 | Fake 0.21\n"
          ]
        },
        {
          "name": "stderr",
          "output_type": "stream",
          "text": [
            "\n",
            " 51%|█████     | 25/49 [08:39<08:16, 20.67s/it]\u001b[A"
          ]
        },
        {
          "name": "stdout",
          "output_type": "stream",
          "text": [
            "Epoch 3/10 | Iter 24/49 | D 2.4344e-01 | G 2.9025e+00 | Real 0.73 | Fake 0.10\n"
          ]
        },
        {
          "name": "stderr",
          "output_type": "stream",
          "text": [
            "\n",
            " 53%|█████▎    | 26/49 [09:00<07:56, 20.72s/it]\u001b[A"
          ]
        },
        {
          "name": "stdout",
          "output_type": "stream",
          "text": [
            "Epoch 3/10 | Iter 25/49 | D 3.7150e-01 | G 7.4933e+00 | Real 0.96 | Fake 0.48\n"
          ]
        },
        {
          "name": "stderr",
          "output_type": "stream",
          "text": [
            "\n",
            " 55%|█████▌    | 27/49 [09:21<07:36, 20.75s/it]\u001b[A"
          ]
        },
        {
          "name": "stdout",
          "output_type": "stream",
          "text": [
            "Epoch 3/10 | Iter 26/49 | D 6.9609e-01 | G 3.6204e+00 | Real 0.37 | Fake 0.01\n"
          ]
        },
        {
          "name": "stderr",
          "output_type": "stream",
          "text": [
            "\n",
            " 57%|█████▋    | 28/49 [09:41<07:14, 20.71s/it]\u001b[A"
          ]
        },
        {
          "name": "stdout",
          "output_type": "stream",
          "text": [
            "Epoch 3/10 | Iter 27/49 | D 1.9296e-01 | G 3.7045e+00 | Real 0.99 | Fake 0.28\n"
          ]
        },
        {
          "name": "stderr",
          "output_type": "stream",
          "text": [
            "\n",
            " 59%|█████▉    | 29/49 [10:02<06:53, 20.68s/it]\u001b[A"
          ]
        },
        {
          "name": "stdout",
          "output_type": "stream",
          "text": [
            "Epoch 3/10 | Iter 28/49 | D 2.2602e-01 | G 4.2744e+00 | Real 0.90 | Fake 0.20\n",
            "Epoch 3/10 | Iter 29/49 | D 1.7278e-01 | G 5.2677e+00 | Real 0.95 | Fake 0.22\n",
            "Epoch 3/10 | Iter 29/49 | D 1.7278e-01 | G 5.2677e+00 | Real 0.95 | Fake 0.22\n"
          ]
        },
        {
          "name": "stderr",
          "output_type": "stream",
          "text": [
            "\n",
            " 61%|██████    | 30/49 [10:23<06:33, 20.72s/it]\u001b[A"
          ]
        },
        {
          "name": "stdout",
          "output_type": "stream",
          "text": [
            ".....Writing sample generated videos......\n"
          ]
        },
        {
          "name": "stderr",
          "output_type": "stream",
          "text": [
            "\n",
            " 63%|██████▎   | 31/49 [10:44<06:12, 20.70s/it]\u001b[A"
          ]
        },
        {
          "name": "stdout",
          "output_type": "stream",
          "text": [
            "Epoch 3/10 | Iter 30/49 | D 3.9292e-01 | G 3.1844e+00 | Real 0.65 | Fake 0.07\n"
          ]
        },
        {
          "name": "stderr",
          "output_type": "stream",
          "text": [
            "\n",
            " 65%|██████▌   | 32/49 [11:04<05:51, 20.68s/it]\u001b[A"
          ]
        },
        {
          "name": "stdout",
          "output_type": "stream",
          "text": [
            "Epoch 3/10 | Iter 31/49 | D 6.0316e-01 | G 1.5349e+00 | Real 0.61 | Fake 0.26\n"
          ]
        },
        {
          "name": "stderr",
          "output_type": "stream",
          "text": [
            "\n",
            " 67%|██████▋   | 33/49 [11:25<05:29, 20.62s/it]\u001b[A"
          ]
        },
        {
          "name": "stdout",
          "output_type": "stream",
          "text": [
            "Epoch 3/10 | Iter 32/49 | D 9.0029e-01 | G 2.8662e+00 | Real 0.69 | Fake 0.64\n"
          ]
        },
        {
          "name": "stderr",
          "output_type": "stream",
          "text": [
            "\n",
            " 69%|██████▉   | 34/49 [11:45<05:09, 20.61s/it]\u001b[A"
          ]
        },
        {
          "name": "stdout",
          "output_type": "stream",
          "text": [
            "Epoch 3/10 | Iter 33/49 | D 2.8865e-01 | G 2.7085e+00 | Real 0.72 | Fake 0.14\n"
          ]
        },
        {
          "name": "stderr",
          "output_type": "stream",
          "text": [
            "\n",
            " 71%|███████▏  | 35/49 [12:06<04:47, 20.57s/it]\u001b[A"
          ]
        },
        {
          "name": "stdout",
          "output_type": "stream",
          "text": [
            "Epoch 3/10 | Iter 34/49 | D 2.2726e-01 | G 3.4773e+00 | Real 0.85 | Fake 0.22\n"
          ]
        },
        {
          "name": "stderr",
          "output_type": "stream",
          "text": [
            "\n",
            " 73%|███████▎  | 36/49 [12:26<04:27, 20.54s/it]\u001b[A"
          ]
        },
        {
          "name": "stdout",
          "output_type": "stream",
          "text": [
            "Epoch 3/10 | Iter 35/49 | D 1.5715e-01 | G 4.4005e+00 | Real 0.91 | Fake 0.19\n"
          ]
        },
        {
          "name": "stderr",
          "output_type": "stream",
          "text": [
            "\n",
            " 76%|███████▌  | 37/49 [12:47<04:06, 20.51s/it]\u001b[A"
          ]
        },
        {
          "name": "stdout",
          "output_type": "stream",
          "text": [
            "Epoch 3/10 | Iter 36/49 | D 1.8906e-01 | G 4.5747e+00 | Real 0.86 | Fake 0.16\n"
          ]
        },
        {
          "name": "stderr",
          "output_type": "stream",
          "text": [
            "\n",
            " 78%|███████▊  | 38/49 [13:07<03:46, 20.55s/it]\u001b[A"
          ]
        },
        {
          "name": "stdout",
          "output_type": "stream",
          "text": [
            "Epoch 3/10 | Iter 37/49 | D 1.8267e-01 | G 3.1093e+00 | Real 0.79 | Fake 0.07\n"
          ]
        },
        {
          "name": "stderr",
          "output_type": "stream",
          "text": [
            "\n",
            " 80%|███████▉  | 39/49 [13:28<03:25, 20.57s/it]\u001b[A"
          ]
        },
        {
          "name": "stdout",
          "output_type": "stream",
          "text": [
            "Epoch 3/10 | Iter 38/49 | D 7.1919e-01 | G 6.9722e+00 | Real 0.67 | Fake 0.56\n",
            "Epoch 3/10 | Iter 39/49 | D 7.0446e-01 | G 2.2470e+00 | Real 0.35 | Fake 0.01\n",
            "Epoch 3/10 | Iter 39/49 | D 7.0446e-01 | G 2.2470e+00 | Real 0.35 | Fake 0.01\n"
          ]
        },
        {
          "name": "stderr",
          "output_type": "stream",
          "text": [
            "\n",
            " 82%|████████▏ | 40/49 [13:49<03:05, 20.62s/it]\u001b[A"
          ]
        },
        {
          "name": "stdout",
          "output_type": "stream",
          "text": [
            ".....Writing sample generated videos......\n"
          ]
        },
        {
          "name": "stderr",
          "output_type": "stream",
          "text": [
            "\n",
            " 84%|████████▎ | 41/49 [14:09<02:44, 20.53s/it]\u001b[A"
          ]
        },
        {
          "name": "stdout",
          "output_type": "stream",
          "text": [
            "Epoch 3/10 | Iter 40/49 | D 3.8970e-01 | G 5.7118e+00 | Real 0.97 | Fake 0.42\n"
          ]
        },
        {
          "name": "stderr",
          "output_type": "stream",
          "text": [
            "\n",
            " 86%|████████▌ | 42/49 [14:30<02:24, 20.61s/it]\u001b[A"
          ]
        },
        {
          "name": "stdout",
          "output_type": "stream",
          "text": [
            "Epoch 3/10 | Iter 41/49 | D 1.2298e-01 | G 6.6800e+00 | Real 0.94 | Fake 0.14\n"
          ]
        },
        {
          "name": "stderr",
          "output_type": "stream",
          "text": [
            "\n",
            " 88%|████████▊ | 43/49 [14:50<02:03, 20.62s/it]\u001b[A"
          ]
        },
        {
          "name": "stdout",
          "output_type": "stream",
          "text": [
            "Epoch 3/10 | Iter 42/49 | D 4.3434e-01 | G 6.4645e+00 | Real 0.80 | Fake 0.27\n"
          ]
        },
        {
          "name": "stderr",
          "output_type": "stream",
          "text": [
            "\n",
            " 90%|████████▉ | 44/49 [15:11<01:42, 20.60s/it]\u001b[A"
          ]
        },
        {
          "name": "stdout",
          "output_type": "stream",
          "text": [
            "Epoch 3/10 | Iter 43/49 | D 4.6066e-01 | G 3.4751e+00 | Real 0.60 | Fake 0.16\n"
          ]
        },
        {
          "name": "stderr",
          "output_type": "stream",
          "text": [
            "\n",
            " 92%|█████████▏| 45/49 [15:31<01:22, 20.55s/it]\u001b[A"
          ]
        },
        {
          "name": "stdout",
          "output_type": "stream",
          "text": [
            "Epoch 3/10 | Iter 44/49 | D 1.0269e+00 | G 7.4678e+00 | Real 0.84 | Fake 0.79\n"
          ]
        },
        {
          "name": "stderr",
          "output_type": "stream",
          "text": [
            "\n",
            " 94%|█████████▍| 46/49 [15:52<01:01, 20.53s/it]\u001b[A"
          ]
        },
        {
          "name": "stdout",
          "output_type": "stream",
          "text": [
            "Epoch 3/10 | Iter 45/49 | D 1.4969e+00 | G 4.1863e+00 | Real 0.22 | Fake 0.02\n"
          ]
        },
        {
          "name": "stderr",
          "output_type": "stream",
          "text": [
            "\n",
            " 96%|█████████▌| 47/49 [16:12<00:41, 20.53s/it]\u001b[A"
          ]
        },
        {
          "name": "stdout",
          "output_type": "stream",
          "text": [
            "Epoch 3/10 | Iter 46/49 | D 2.3800e-01 | G 3.7581e+00 | Real 0.85 | Fake 0.18\n"
          ]
        },
        {
          "name": "stderr",
          "output_type": "stream",
          "text": [
            "\n",
            " 98%|█████████▊| 48/49 [16:33<00:20, 20.53s/it]\u001b[A"
          ]
        },
        {
          "name": "stdout",
          "output_type": "stream",
          "text": [
            "Epoch 3/10 | Iter 47/49 | D 7.6564e-01 | G 4.1900e+00 | Real 0.88 | Fake 0.48\n",
            "Epoch 3/10 | Iter 48/49 | D 3.1998e-01 | G 3.8835e+00 | Real 0.71 | Fake 0.10\n",
            "Epoch 3/10 | Iter 48/49 | D 3.1998e-01 | G 3.8835e+00 | Real 0.71 | Fake 0.10\n"
          ]
        },
        {
          "name": "stderr",
          "output_type": "stream",
          "text": [
            "\n",
            "100%|██████████| 49/49 [16:54<00:00, 20.57s/it]\u001b[A\n",
            " 40%|████      | 4/10 [1:07:50<1:41:47, 1017.92s/it]"
          ]
        },
        {
          "name": "stdout",
          "output_type": "stream",
          "text": [
            ".....Writing sample generated videos......\n"
          ]
        },
        {
          "name": "stderr",
          "output_type": "stream",
          "text": [
            "\n",
            "  0%|          | 0/49 [00:00<?, ?it/s]\u001b[A\n",
            "  2%|▏         | 1/49 [00:20<16:34, 20.72s/it]\u001b[A"
          ]
        },
        {
          "name": "stdout",
          "output_type": "stream",
          "text": [
            "Epoch 4/10 | Iter 0/49 | D 5.3914e-01 | G 2.5651e+00 | Real 0.56 | Fake 0.13\n"
          ]
        },
        {
          "name": "stderr",
          "output_type": "stream",
          "text": [
            "\n",
            "  4%|▍         | 2/49 [00:41<16:04, 20.52s/it]\u001b[A"
          ]
        },
        {
          "name": "stdout",
          "output_type": "stream",
          "text": [
            "Epoch 4/10 | Iter 1/49 | D 2.2741e-01 | G 3.1008e+00 | Real 0.91 | Fake 0.27\n"
          ]
        },
        {
          "name": "stderr",
          "output_type": "stream",
          "text": [
            "\n",
            "  6%|▌         | 3/49 [01:01<15:45, 20.56s/it]\u001b[A"
          ]
        },
        {
          "name": "stdout",
          "output_type": "stream",
          "text": [
            "Epoch 4/10 | Iter 2/49 | D 9.9330e-02 | G 4.1775e+00 | Real 0.96 | Fake 0.14\n"
          ]
        },
        {
          "name": "stderr",
          "output_type": "stream",
          "text": [
            "\n",
            "  8%|▊         | 4/49 [01:22<15:23, 20.52s/it]\u001b[A"
          ]
        },
        {
          "name": "stdout",
          "output_type": "stream",
          "text": [
            "Epoch 4/10 | Iter 3/49 | D 1.0789e-01 | G 4.0990e+00 | Real 0.89 | Fake 0.08\n"
          ]
        },
        {
          "name": "stderr",
          "output_type": "stream",
          "text": [
            "\n",
            " 10%|█         | 5/49 [01:42<15:03, 20.53s/it]\u001b[A"
          ]
        },
        {
          "name": "stdout",
          "output_type": "stream",
          "text": [
            "Epoch 4/10 | Iter 4/49 | D 1.7979e-01 | G 3.4539e+00 | Real 0.88 | Fake 0.14\n"
          ]
        },
        {
          "name": "stderr",
          "output_type": "stream",
          "text": [
            "\n",
            " 12%|█▏        | 6/49 [02:03<14:42, 20.52s/it]\u001b[A"
          ]
        },
        {
          "name": "stdout",
          "output_type": "stream",
          "text": [
            "Epoch 4/10 | Iter 5/49 | D 2.3850e-01 | G 4.6929e+00 | Real 0.95 | Fake 0.32\n"
          ]
        },
        {
          "name": "stderr",
          "output_type": "stream",
          "text": [
            "\n",
            " 14%|█▍        | 7/49 [02:23<14:23, 20.55s/it]\u001b[A"
          ]
        },
        {
          "name": "stdout",
          "output_type": "stream",
          "text": [
            "Epoch 4/10 | Iter 6/49 | D 3.6041e-01 | G 3.3507e+00 | Real 0.71 | Fake 0.23\n"
          ]
        },
        {
          "name": "stderr",
          "output_type": "stream",
          "text": [
            "\n",
            " 16%|█▋        | 8/49 [02:43<13:54, 20.35s/it]\u001b[A"
          ]
        },
        {
          "name": "stdout",
          "output_type": "stream",
          "text": [
            "Epoch 4/10 | Iter 7/49 | D 7.1217e-01 | G 3.7438e+00 | Real 0.69 | Fake 0.55\n"
          ]
        },
        {
          "name": "stderr",
          "output_type": "stream",
          "text": [
            "\n",
            " 18%|█▊        | 9/49 [03:04<13:36, 20.42s/it]\u001b[A"
          ]
        },
        {
          "name": "stdout",
          "output_type": "stream",
          "text": [
            "Epoch 4/10 | Iter 8/49 | D 7.7484e-01 | G 2.2642e+00 | Real 0.42 | Fake 0.19\n",
            "Epoch 4/10 | Iter 9/49 | D 4.4485e-01 | G 5.5693e+00 | Real 0.93 | Fake 0.43\n",
            "Epoch 4/10 | Iter 9/49 | D 4.4485e-01 | G 5.5693e+00 | Real 0.93 | Fake 0.43\n"
          ]
        },
        {
          "name": "stderr",
          "output_type": "stream",
          "text": [
            "\n",
            " 20%|██        | 10/49 [03:25<13:21, 20.54s/it]\u001b[A"
          ]
        },
        {
          "name": "stdout",
          "output_type": "stream",
          "text": [
            ".....Writing sample generated videos......\n"
          ]
        },
        {
          "name": "stderr",
          "output_type": "stream",
          "text": [
            "\n",
            " 22%|██▏       | 11/49 [03:45<13:00, 20.54s/it]\u001b[A"
          ]
        },
        {
          "name": "stdout",
          "output_type": "stream",
          "text": [
            "Epoch 4/10 | Iter 10/49 | D 7.2095e-01 | G 4.1194e+00 | Real 0.43 | Fake 0.06\n"
          ]
        },
        {
          "name": "stderr",
          "output_type": "stream",
          "text": [
            "\n",
            " 24%|██▍       | 12/49 [04:05<12:37, 20.47s/it]\u001b[A"
          ]
        },
        {
          "name": "stdout",
          "output_type": "stream",
          "text": [
            "Epoch 4/10 | Iter 11/49 | D 5.3837e-01 | G 1.6521e+00 | Real 0.59 | Fake 0.17\n"
          ]
        },
        {
          "name": "stderr",
          "output_type": "stream",
          "text": [
            "\n",
            " 27%|██▋       | 13/49 [04:26<12:17, 20.49s/it]\u001b[A"
          ]
        },
        {
          "name": "stdout",
          "output_type": "stream",
          "text": [
            "Epoch 4/10 | Iter 12/49 | D 8.3995e-01 | G 6.1281e+00 | Real 0.95 | Fake 0.72\n"
          ]
        },
        {
          "name": "stderr",
          "output_type": "stream",
          "text": [
            "\n",
            " 29%|██▊       | 14/49 [04:46<11:54, 20.43s/it]\u001b[A"
          ]
        },
        {
          "name": "stdout",
          "output_type": "stream",
          "text": [
            "Epoch 4/10 | Iter 13/49 | D 5.2388e-01 | G 5.2199e+00 | Real 0.53 | Fake 0.08\n"
          ]
        },
        {
          "name": "stderr",
          "output_type": "stream",
          "text": [
            "\n",
            " 31%|███       | 15/49 [05:07<11:34, 20.42s/it]\u001b[A"
          ]
        },
        {
          "name": "stdout",
          "output_type": "stream",
          "text": [
            "Epoch 4/10 | Iter 14/49 | D 4.1440e-01 | G 2.7105e+00 | Real 0.64 | Fake 0.05\n"
          ]
        },
        {
          "name": "stderr",
          "output_type": "stream",
          "text": [
            "\n",
            " 33%|███▎      | 16/49 [05:27<11:15, 20.46s/it]\u001b[A"
          ]
        },
        {
          "name": "stdout",
          "output_type": "stream",
          "text": [
            "Epoch 4/10 | Iter 15/49 | D 3.6883e-01 | G 2.9882e+00 | Real 0.81 | Fake 0.34\n"
          ]
        },
        {
          "name": "stderr",
          "output_type": "stream",
          "text": [
            "\n",
            " 35%|███▍      | 17/49 [05:48<10:56, 20.52s/it]\u001b[A"
          ]
        },
        {
          "name": "stdout",
          "output_type": "stream",
          "text": [
            "Epoch 4/10 | Iter 16/49 | D 2.7942e-01 | G 3.6486e+00 | Real 0.81 | Fake 0.21\n"
          ]
        },
        {
          "name": "stderr",
          "output_type": "stream",
          "text": [
            "\n",
            " 37%|███▋      | 18/49 [06:08<10:36, 20.53s/it]\u001b[A"
          ]
        },
        {
          "name": "stdout",
          "output_type": "stream",
          "text": [
            "Epoch 4/10 | Iter 17/49 | D 1.6806e-01 | G 4.6921e+00 | Real 0.90 | Fake 0.18\n"
          ]
        },
        {
          "name": "stderr",
          "output_type": "stream",
          "text": [
            "\n",
            " 39%|███▉      | 19/49 [06:29<10:15, 20.51s/it]\u001b[A"
          ]
        },
        {
          "name": "stdout",
          "output_type": "stream",
          "text": [
            "Epoch 4/10 | Iter 18/49 | D 2.0732e-01 | G 4.1880e+00 | Real 0.84 | Fake 0.17\n",
            "Epoch 4/10 | Iter 19/49 | D 3.8975e-01 | G 6.0354e+00 | Real 0.95 | Fake 0.45\n",
            "Epoch 4/10 | Iter 19/49 | D 3.8975e-01 | G 6.0354e+00 | Real 0.95 | Fake 0.45\n"
          ]
        },
        {
          "name": "stderr",
          "output_type": "stream",
          "text": [
            "\n",
            " 41%|████      | 20/49 [06:49<09:54, 20.51s/it]\u001b[A"
          ]
        },
        {
          "name": "stdout",
          "output_type": "stream",
          "text": [
            ".....Writing sample generated videos......\n"
          ]
        },
        {
          "name": "stderr",
          "output_type": "stream",
          "text": [
            "\n",
            " 43%|████▎     | 21/49 [07:10<09:32, 20.46s/it]\u001b[A"
          ]
        },
        {
          "name": "stdout",
          "output_type": "stream",
          "text": [
            "Epoch 4/10 | Iter 20/49 | D 6.2560e-01 | G 4.0612e+00 | Real 0.55 | Fake 0.15\n"
          ]
        },
        {
          "name": "stderr",
          "output_type": "stream",
          "text": [
            "\n",
            " 45%|████▍     | 22/49 [07:30<09:09, 20.34s/it]\u001b[A"
          ]
        },
        {
          "name": "stdout",
          "output_type": "stream",
          "text": [
            "Epoch 4/10 | Iter 21/49 | D 1.5904e+00 | G 7.5786e+00 | Real 0.67 | Fake 0.56\n"
          ]
        },
        {
          "name": "stderr",
          "output_type": "stream",
          "text": [
            "\n",
            " 47%|████▋     | 23/49 [07:50<08:50, 20.40s/it]\u001b[A"
          ]
        },
        {
          "name": "stdout",
          "output_type": "stream",
          "text": [
            "Epoch 4/10 | Iter 22/49 | D 1.3418e+00 | G 3.3315e+00 | Real 0.23 | Fake 0.04\n"
          ]
        },
        {
          "name": "stderr",
          "output_type": "stream",
          "text": [
            "\n",
            " 49%|████▉     | 24/49 [08:11<08:29, 20.40s/it]\u001b[A"
          ]
        },
        {
          "name": "stdout",
          "output_type": "stream",
          "text": [
            "Epoch 4/10 | Iter 23/49 | D 8.3827e-01 | G 5.5223e+00 | Real 0.69 | Fake 0.59\n"
          ]
        },
        {
          "name": "stderr",
          "output_type": "stream",
          "text": [
            "\n",
            " 51%|█████     | 25/49 [08:31<08:11, 20.49s/it]\u001b[A"
          ]
        },
        {
          "name": "stdout",
          "output_type": "stream",
          "text": [
            "Epoch 4/10 | Iter 24/49 | D 2.8192e-01 | G 4.6355e+00 | Real 0.70 | Fake 0.12\n"
          ]
        },
        {
          "name": "stderr",
          "output_type": "stream",
          "text": [
            "\n",
            " 53%|█████▎    | 26/49 [08:52<07:51, 20.49s/it]\u001b[A"
          ]
        },
        {
          "name": "stdout",
          "output_type": "stream",
          "text": [
            "Epoch 4/10 | Iter 25/49 | D 1.9953e-01 | G 3.6899e+00 | Real 0.85 | Fake 0.19\n"
          ]
        },
        {
          "name": "stderr",
          "output_type": "stream",
          "text": [
            "\n",
            " 55%|█████▌    | 27/49 [09:12<07:30, 20.49s/it]\u001b[A"
          ]
        },
        {
          "name": "stdout",
          "output_type": "stream",
          "text": [
            "Epoch 4/10 | Iter 26/49 | D 1.8466e-01 | G 4.3666e+00 | Real 0.91 | Fake 0.20\n"
          ]
        },
        {
          "name": "stderr",
          "output_type": "stream",
          "text": [
            "\n",
            " 57%|█████▋    | 28/49 [09:33<07:09, 20.48s/it]\u001b[A"
          ]
        },
        {
          "name": "stdout",
          "output_type": "stream",
          "text": [
            "Epoch 4/10 | Iter 27/49 | D 5.1315e-01 | G 3.5376e+00 | Real 0.58 | Fake 0.20\n"
          ]
        },
        {
          "name": "stderr",
          "output_type": "stream",
          "text": [
            "\n",
            " 59%|█████▉    | 29/49 [09:54<06:50, 20.51s/it]\u001b[A"
          ]
        },
        {
          "name": "stdout",
          "output_type": "stream",
          "text": [
            "Epoch 4/10 | Iter 28/49 | D 5.2211e-01 | G 3.0026e+00 | Real 0.80 | Fake 0.34\n",
            "Epoch 4/10 | Iter 29/49 | D 3.8184e-01 | G 3.4965e+00 | Real 0.86 | Fake 0.36\n",
            "Epoch 4/10 | Iter 29/49 | D 3.8184e-01 | G 3.4965e+00 | Real 0.86 | Fake 0.36\n"
          ]
        },
        {
          "name": "stderr",
          "output_type": "stream",
          "text": [
            "\n",
            " 61%|██████    | 30/49 [10:14<06:30, 20.53s/it]\u001b[A"
          ]
        },
        {
          "name": "stdout",
          "output_type": "stream",
          "text": [
            ".....Writing sample generated videos......\n"
          ]
        },
        {
          "name": "stderr",
          "output_type": "stream",
          "text": [
            "\n",
            " 63%|██████▎   | 31/49 [10:35<06:10, 20.56s/it]\u001b[A"
          ]
        },
        {
          "name": "stdout",
          "output_type": "stream",
          "text": [
            "Epoch 4/10 | Iter 30/49 | D 2.7436e-01 | G 4.2113e+00 | Real 0.84 | Fake 0.20\n"
          ]
        },
        {
          "name": "stderr",
          "output_type": "stream",
          "text": [
            "\n",
            " 65%|██████▌   | 32/49 [10:55<05:48, 20.52s/it]\u001b[A"
          ]
        },
        {
          "name": "stdout",
          "output_type": "stream",
          "text": [
            "Epoch 4/10 | Iter 31/49 | D 1.0325e+00 | G 1.9831e+00 | Real 0.51 | Fake 0.27\n"
          ]
        },
        {
          "name": "stderr",
          "output_type": "stream",
          "text": [
            "\n",
            " 67%|██████▋   | 33/49 [11:16<05:28, 20.51s/it]\u001b[A"
          ]
        },
        {
          "name": "stdout",
          "output_type": "stream",
          "text": [
            "Epoch 4/10 | Iter 32/49 | D 2.2331e+00 | G 4.2217e+00 | Real 0.31 | Fake 0.69\n"
          ]
        },
        {
          "name": "stderr",
          "output_type": "stream",
          "text": [
            "\n",
            " 69%|██████▉   | 34/49 [11:36<05:06, 20.42s/it]\u001b[A"
          ]
        },
        {
          "name": "stdout",
          "output_type": "stream",
          "text": [
            "Epoch 4/10 | Iter 33/49 | D 4.1392e-01 | G 3.3970e+00 | Real 0.61 | Fake 0.10\n"
          ]
        },
        {
          "name": "stderr",
          "output_type": "stream",
          "text": [
            "\n",
            " 71%|███████▏  | 35/49 [11:56<04:46, 20.44s/it]\u001b[A"
          ]
        },
        {
          "name": "stdout",
          "output_type": "stream",
          "text": [
            "Epoch 4/10 | Iter 34/49 | D 3.3877e-01 | G 2.6098e+00 | Real 0.70 | Fake 0.19\n"
          ]
        },
        {
          "name": "stderr",
          "output_type": "stream",
          "text": [
            "\n",
            " 73%|███████▎  | 36/49 [12:17<04:26, 20.49s/it]\u001b[A"
          ]
        },
        {
          "name": "stdout",
          "output_type": "stream",
          "text": [
            "Epoch 4/10 | Iter 35/49 | D 1.2431e-01 | G 3.6246e+00 | Real 0.99 | Fake 0.20\n"
          ]
        },
        {
          "name": "stderr",
          "output_type": "stream",
          "text": [
            "\n",
            " 76%|███████▌  | 37/49 [12:37<04:06, 20.50s/it]\u001b[A"
          ]
        },
        {
          "name": "stdout",
          "output_type": "stream",
          "text": [
            "Epoch 4/10 | Iter 36/49 | D 3.8149e-02 | G 4.1982e+00 | Real 0.99 | Fake 0.06\n"
          ]
        },
        {
          "name": "stderr",
          "output_type": "stream",
          "text": [
            "\n",
            " 78%|███████▊  | 38/49 [12:58<03:45, 20.51s/it]\u001b[A"
          ]
        },
        {
          "name": "stdout",
          "output_type": "stream",
          "text": [
            "Epoch 4/10 | Iter 37/49 | D 5.3424e-02 | G 4.5972e+00 | Real 0.96 | Fake 0.06\n"
          ]
        },
        {
          "name": "stderr",
          "output_type": "stream",
          "text": [
            "\n",
            " 80%|███████▉  | 39/49 [13:18<03:24, 20.48s/it]\u001b[A"
          ]
        },
        {
          "name": "stdout",
          "output_type": "stream",
          "text": [
            "Epoch 4/10 | Iter 38/49 | D 1.1711e-01 | G 3.8871e+00 | Real 0.88 | Fake 0.04\n",
            "Epoch 4/10 | Iter 39/49 | D 6.0697e-02 | G 3.5047e+00 | Real 0.98 | Fake 0.09\n",
            "Epoch 4/10 | Iter 39/49 | D 6.0697e-02 | G 3.5047e+00 | Real 0.98 | Fake 0.09\n"
          ]
        },
        {
          "name": "stderr",
          "output_type": "stream",
          "text": [
            "\n",
            " 82%|████████▏ | 40/49 [13:39<03:04, 20.55s/it]\u001b[A"
          ]
        },
        {
          "name": "stdout",
          "output_type": "stream",
          "text": [
            ".....Writing sample generated videos......\n"
          ]
        },
        {
          "name": "stderr",
          "output_type": "stream",
          "text": [
            "\n",
            " 84%|████████▎ | 41/49 [13:59<02:43, 20.49s/it]\u001b[A"
          ]
        },
        {
          "name": "stdout",
          "output_type": "stream",
          "text": [
            "Epoch 4/10 | Iter 40/49 | D 2.4986e-01 | G 3.0436e+00 | Real 0.76 | Fake 0.14\n"
          ]
        },
        {
          "name": "stderr",
          "output_type": "stream",
          "text": [
            "\n",
            " 86%|████████▌ | 42/49 [14:20<02:23, 20.49s/it]\u001b[A"
          ]
        },
        {
          "name": "stdout",
          "output_type": "stream",
          "text": [
            "Epoch 4/10 | Iter 41/49 | D 3.8175e-01 | G 4.3600e+00 | Real 0.92 | Fake 0.40\n"
          ]
        },
        {
          "name": "stderr",
          "output_type": "stream",
          "text": [
            "\n",
            " 88%|████████▊ | 43/49 [14:40<02:02, 20.45s/it]\u001b[A"
          ]
        },
        {
          "name": "stdout",
          "output_type": "stream",
          "text": [
            "Epoch 4/10 | Iter 42/49 | D 2.7272e-01 | G 3.8595e+00 | Real 0.77 | Fake 0.19\n"
          ]
        },
        {
          "name": "stderr",
          "output_type": "stream",
          "text": [
            "\n",
            " 90%|████████▉ | 44/49 [15:01<01:42, 20.45s/it]\u001b[A"
          ]
        },
        {
          "name": "stdout",
          "output_type": "stream",
          "text": [
            "Epoch 4/10 | Iter 43/49 | D 9.2127e-01 | G 1.6691e+00 | Real 0.37 | Fake 0.29\n"
          ]
        },
        {
          "name": "stderr",
          "output_type": "stream",
          "text": [
            "\n",
            " 92%|█████████▏| 45/49 [15:21<01:21, 20.50s/it]\u001b[A"
          ]
        },
        {
          "name": "stdout",
          "output_type": "stream",
          "text": [
            "Epoch 4/10 | Iter 44/49 | D 8.5058e-01 | G 1.5029e+00 | Real 0.76 | Fake 0.55\n"
          ]
        },
        {
          "name": "stderr",
          "output_type": "stream",
          "text": [
            "\n",
            " 94%|█████████▍| 46/49 [15:42<01:01, 20.48s/it]\u001b[A"
          ]
        },
        {
          "name": "stdout",
          "output_type": "stream",
          "text": [
            "Epoch 4/10 | Iter 45/49 | D 4.2081e-01 | G 3.3251e+00 | Real 0.80 | Fake 0.36\n"
          ]
        },
        {
          "name": "stderr",
          "output_type": "stream",
          "text": [
            "\n",
            " 96%|█████████▌| 47/49 [16:02<00:41, 20.50s/it]\u001b[A"
          ]
        },
        {
          "name": "stdout",
          "output_type": "stream",
          "text": [
            "Epoch 4/10 | Iter 46/49 | D 6.0771e-01 | G 2.0480e+00 | Real 0.57 | Fake 0.23\n"
          ]
        },
        {
          "name": "stderr",
          "output_type": "stream",
          "text": [
            "\n",
            " 98%|█████████▊| 48/49 [16:23<00:20, 20.52s/it]\u001b[A"
          ]
        },
        {
          "name": "stdout",
          "output_type": "stream",
          "text": [
            "Epoch 4/10 | Iter 47/49 | D 7.7608e-01 | G 9.8534e-01 | Real 0.44 | Fake 0.28\n",
            "Epoch 4/10 | Iter 48/49 | D 5.5123e-01 | G 3.0162e+00 | Real 0.87 | Fake 0.56\n",
            "Epoch 4/10 | Iter 48/49 | D 5.5123e-01 | G 3.0162e+00 | Real 0.87 | Fake 0.56\n"
          ]
        },
        {
          "name": "stderr",
          "output_type": "stream",
          "text": [
            "\n",
            "100%|██████████| 49/49 [16:44<00:00, 20.62s/it]\u001b[A\n",
            " 50%|█████     | 5/10 [1:24:34<1:24:25, 1013.01s/it]"
          ]
        },
        {
          "name": "stdout",
          "output_type": "stream",
          "text": [
            ".....Writing sample generated videos......\n"
          ]
        },
        {
          "name": "stderr",
          "output_type": "stream",
          "text": [
            "\n",
            "  0%|          | 0/49 [00:00<?, ?it/s]\u001b[A\n",
            "  2%|▏         | 1/49 [00:20<16:28, 20.60s/it]\u001b[A"
          ]
        },
        {
          "name": "stdout",
          "output_type": "stream",
          "text": [
            "Epoch 5/10 | Iter 0/49 | D 4.0526e-01 | G 2.0677e+00 | Real 0.60 | Fake 0.13\n"
          ]
        },
        {
          "name": "stderr",
          "output_type": "stream",
          "text": [
            "\n",
            "  4%|▍         | 2/49 [00:41<16:05, 20.55s/it]\u001b[A"
          ]
        },
        {
          "name": "stdout",
          "output_type": "stream",
          "text": [
            "Epoch 5/10 | Iter 1/49 | D 3.2754e-01 | G 1.1500e+00 | Real 0.70 | Fake 0.15\n"
          ]
        },
        {
          "name": "stderr",
          "output_type": "stream",
          "text": [
            "\n",
            "  6%|▌         | 3/49 [01:01<15:41, 20.47s/it]\u001b[A"
          ]
        },
        {
          "name": "stdout",
          "output_type": "stream",
          "text": [
            "Epoch 5/10 | Iter 2/49 | D 4.3588e-01 | G 2.4015e+00 | Real 0.85 | Fake 0.43\n"
          ]
        },
        {
          "name": "stderr",
          "output_type": "stream",
          "text": [
            "\n",
            "  8%|▊         | 4/49 [01:22<15:22, 20.49s/it]\u001b[A"
          ]
        },
        {
          "name": "stdout",
          "output_type": "stream",
          "text": [
            "Epoch 5/10 | Iter 3/49 | D 1.2470e-01 | G 4.4896e+00 | Real 0.95 | Fake 0.17\n"
          ]
        },
        {
          "name": "stderr",
          "output_type": "stream",
          "text": [
            "\n",
            " 10%|█         | 5/49 [01:42<14:57, 20.40s/it]\u001b[A"
          ]
        },
        {
          "name": "stdout",
          "output_type": "stream",
          "text": [
            "Epoch 5/10 | Iter 4/49 | D 4.3421e-01 | G 2.0255e+00 | Real 0.50 | Fake 0.08\n"
          ]
        },
        {
          "name": "stderr",
          "output_type": "stream",
          "text": [
            "\n",
            " 12%|█▏        | 6/49 [02:02<14:35, 20.37s/it]\u001b[A"
          ]
        },
        {
          "name": "stdout",
          "output_type": "stream",
          "text": [
            "Epoch 5/10 | Iter 5/49 | D 2.1308e-01 | G 1.7457e+00 | Real 0.90 | Fake 0.23\n"
          ]
        },
        {
          "name": "stderr",
          "output_type": "stream",
          "text": [
            "\n",
            " 14%|█▍        | 7/49 [02:23<14:17, 20.41s/it]\u001b[A"
          ]
        },
        {
          "name": "stdout",
          "output_type": "stream",
          "text": [
            "Epoch 5/10 | Iter 6/49 | D 1.5388e-01 | G 2.7429e+00 | Real 0.97 | Fake 0.22\n"
          ]
        },
        {
          "name": "stderr",
          "output_type": "stream",
          "text": [
            "\n",
            " 16%|█▋        | 8/49 [02:43<13:52, 20.31s/it]\u001b[A"
          ]
        },
        {
          "name": "stdout",
          "output_type": "stream",
          "text": [
            "Epoch 5/10 | Iter 7/49 | D 8.9376e-02 | G 3.1299e+00 | Real 0.90 | Fake 0.06\n"
          ]
        },
        {
          "name": "stderr",
          "output_type": "stream",
          "text": [
            "\n",
            " 18%|█▊        | 9/49 [03:03<13:33, 20.35s/it]\u001b[A"
          ]
        },
        {
          "name": "stdout",
          "output_type": "stream",
          "text": [
            "Epoch 5/10 | Iter 8/49 | D 3.0346e-01 | G 1.6677e+00 | Real 0.69 | Fake 0.15\n",
            "Epoch 5/10 | Iter 9/49 | D 2.1112e-01 | G 3.7979e+00 | Real 0.98 | Fake 0.31\n",
            "Epoch 5/10 | Iter 9/49 | D 2.1112e-01 | G 3.7979e+00 | Real 0.98 | Fake 0.31\n"
          ]
        },
        {
          "name": "stderr",
          "output_type": "stream",
          "text": [
            "\n",
            " 20%|██        | 10/49 [03:24<13:18, 20.49s/it]\u001b[A"
          ]
        },
        {
          "name": "stdout",
          "output_type": "stream",
          "text": [
            ".....Writing sample generated videos......\n"
          ]
        },
        {
          "name": "stderr",
          "output_type": "stream",
          "text": [
            "\n",
            " 22%|██▏       | 11/49 [03:44<12:58, 20.48s/it]\u001b[A"
          ]
        },
        {
          "name": "stdout",
          "output_type": "stream",
          "text": [
            "Epoch 5/10 | Iter 10/49 | D 3.0768e-01 | G 3.7215e+00 | Real 0.67 | Fake 0.13\n"
          ]
        },
        {
          "name": "stderr",
          "output_type": "stream",
          "text": [
            "\n",
            " 24%|██▍       | 12/49 [04:05<12:38, 20.49s/it]\u001b[A"
          ]
        },
        {
          "name": "stdout",
          "output_type": "stream",
          "text": [
            "Epoch 5/10 | Iter 11/49 | D 2.2715e-01 | G 2.9159e+00 | Real 0.81 | Fake 0.18\n"
          ]
        },
        {
          "name": "stderr",
          "output_type": "stream",
          "text": [
            "\n",
            " 27%|██▋       | 13/49 [04:25<12:17, 20.48s/it]\u001b[A"
          ]
        },
        {
          "name": "stdout",
          "output_type": "stream",
          "text": [
            "Epoch 5/10 | Iter 12/49 | D 2.9581e-01 | G 5.5875e+00 | Real 0.92 | Fake 0.37\n"
          ]
        },
        {
          "name": "stderr",
          "output_type": "stream",
          "text": [
            "\n",
            " 29%|██▊       | 14/49 [04:47<12:07, 20.79s/it]\u001b[A"
          ]
        },
        {
          "name": "stdout",
          "output_type": "stream",
          "text": [
            "Epoch 5/10 | Iter 13/49 | D 4.1673e-01 | G 2.9132e+00 | Real 0.54 | Fake 0.06\n"
          ]
        },
        {
          "name": "stderr",
          "output_type": "stream",
          "text": [
            "\n",
            " 31%|███       | 15/49 [05:07<11:42, 20.66s/it]\u001b[A"
          ]
        },
        {
          "name": "stdout",
          "output_type": "stream",
          "text": [
            "Epoch 5/10 | Iter 14/49 | D 4.1492e-01 | G 4.3312e+00 | Real 0.84 | Fake 0.44\n"
          ]
        },
        {
          "name": "stderr",
          "output_type": "stream",
          "text": [
            "\n",
            " 33%|███▎      | 16/49 [05:28<11:20, 20.62s/it]\u001b[A"
          ]
        },
        {
          "name": "stdout",
          "output_type": "stream",
          "text": [
            "Epoch 5/10 | Iter 15/49 | D 4.4396e-01 | G 2.4685e+00 | Real 0.58 | Fake 0.16\n"
          ]
        },
        {
          "name": "stderr",
          "output_type": "stream",
          "text": [
            "\n",
            " 35%|███▍      | 17/49 [05:48<10:59, 20.62s/it]\u001b[A"
          ]
        },
        {
          "name": "stdout",
          "output_type": "stream",
          "text": [
            "Epoch 5/10 | Iter 16/49 | D 6.6773e-01 | G 5.2357e+00 | Real 0.74 | Fake 0.54\n"
          ]
        },
        {
          "name": "stderr",
          "output_type": "stream",
          "text": [
            "\n",
            " 37%|███▋      | 18/49 [06:09<10:37, 20.58s/it]\u001b[A"
          ]
        },
        {
          "name": "stdout",
          "output_type": "stream",
          "text": [
            "Epoch 5/10 | Iter 17/49 | D 3.2591e-01 | G 6.0081e+00 | Real 0.76 | Fake 0.15\n"
          ]
        },
        {
          "name": "stderr",
          "output_type": "stream",
          "text": [
            "\n",
            " 39%|███▉      | 19/49 [06:29<10:16, 20.54s/it]\u001b[A"
          ]
        },
        {
          "name": "stdout",
          "output_type": "stream",
          "text": [
            "Epoch 5/10 | Iter 18/49 | D 4.7322e-01 | G 5.7789e-01 | Real 0.53 | Fake 0.05\n",
            "Epoch 5/10 | Iter 19/49 | D 1.3096e+00 | G 7.3690e+00 | Real 0.94 | Fake 0.90\n",
            "Epoch 5/10 | Iter 19/49 | D 1.3096e+00 | G 7.3690e+00 | Real 0.94 | Fake 0.90\n"
          ]
        },
        {
          "name": "stderr",
          "output_type": "stream",
          "text": [
            "\n",
            " 41%|████      | 20/49 [06:50<09:57, 20.59s/it]\u001b[A"
          ]
        },
        {
          "name": "stdout",
          "output_type": "stream",
          "text": [
            ".....Writing sample generated videos......\n"
          ]
        },
        {
          "name": "stderr",
          "output_type": "stream",
          "text": [
            "\n",
            " 43%|████▎     | 21/49 [07:10<09:32, 20.46s/it]\u001b[A"
          ]
        },
        {
          "name": "stdout",
          "output_type": "stream",
          "text": [
            "Epoch 5/10 | Iter 20/49 | D 3.4024e-01 | G 7.0838e+00 | Real 0.64 | Fake 0.01\n"
          ]
        },
        {
          "name": "stderr",
          "output_type": "stream",
          "text": [
            "\n",
            " 45%|████▍     | 22/49 [07:30<09:09, 20.34s/it]\u001b[A"
          ]
        },
        {
          "name": "stdout",
          "output_type": "stream",
          "text": [
            "Epoch 5/10 | Iter 21/49 | D 5.5584e-01 | G 1.8861e+00 | Real 0.52 | Fake 0.14\n"
          ]
        },
        {
          "name": "stderr",
          "output_type": "stream",
          "text": [
            "\n",
            " 47%|████▋     | 23/49 [07:51<08:51, 20.44s/it]\u001b[A"
          ]
        },
        {
          "name": "stdout",
          "output_type": "stream",
          "text": [
            "Epoch 5/10 | Iter 22/49 | D 1.0249e+00 | G 1.9176e+00 | Real 0.84 | Fake 0.76\n"
          ]
        },
        {
          "name": "stderr",
          "output_type": "stream",
          "text": [
            "\n",
            " 49%|████▉     | 24/49 [08:12<08:32, 20.51s/it]\u001b[A"
          ]
        },
        {
          "name": "stdout",
          "output_type": "stream",
          "text": [
            "Epoch 5/10 | Iter 23/49 | D 7.0126e-01 | G 4.3225e+00 | Real 0.74 | Fake 0.52\n"
          ]
        },
        {
          "name": "stderr",
          "output_type": "stream",
          "text": [
            "\n",
            " 51%|█████     | 25/49 [08:32<08:12, 20.51s/it]\u001b[A"
          ]
        },
        {
          "name": "stdout",
          "output_type": "stream",
          "text": [
            "Epoch 5/10 | Iter 24/49 | D 1.3750e+00 | G 1.0378e+00 | Real 0.17 | Fake 0.15\n"
          ]
        },
        {
          "name": "stderr",
          "output_type": "stream",
          "text": [
            "\n",
            " 53%|█████▎    | 26/49 [08:53<07:51, 20.52s/it]\u001b[A"
          ]
        },
        {
          "name": "stdout",
          "output_type": "stream",
          "text": [
            "Epoch 5/10 | Iter 25/49 | D 1.0064e+00 | G 2.3039e+00 | Real 0.68 | Fake 0.72\n"
          ]
        },
        {
          "name": "stderr",
          "output_type": "stream",
          "text": [
            "\n",
            " 55%|█████▌    | 27/49 [09:13<07:31, 20.54s/it]\u001b[A"
          ]
        },
        {
          "name": "stdout",
          "output_type": "stream",
          "text": [
            "Epoch 5/10 | Iter 26/49 | D 5.8828e-01 | G 1.6670e+00 | Real 0.55 | Fake 0.26\n"
          ]
        },
        {
          "name": "stderr",
          "output_type": "stream",
          "text": [
            "\n",
            " 57%|█████▋    | 28/49 [09:34<07:10, 20.51s/it]\u001b[A"
          ]
        },
        {
          "name": "stdout",
          "output_type": "stream",
          "text": [
            "Epoch 5/10 | Iter 27/49 | D 3.7416e-01 | G 2.6459e+00 | Real 0.84 | Fake 0.36\n"
          ]
        },
        {
          "name": "stderr",
          "output_type": "stream",
          "text": [
            "\n",
            " 59%|█████▉    | 29/49 [09:54<06:49, 20.49s/it]\u001b[A"
          ]
        },
        {
          "name": "stdout",
          "output_type": "stream",
          "text": [
            "Epoch 5/10 | Iter 28/49 | D 6.0653e-01 | G 2.5483e+00 | Real 0.66 | Fake 0.29\n",
            "Epoch 5/10 | Iter 29/49 | D 4.7317e-01 | G 1.9426e+00 | Real 0.64 | Fake 0.28\n",
            "Epoch 5/10 | Iter 29/49 | D 4.7317e-01 | G 1.9426e+00 | Real 0.64 | Fake 0.28\n"
          ]
        },
        {
          "name": "stderr",
          "output_type": "stream",
          "text": [
            "\n",
            " 61%|██████    | 30/49 [10:15<06:30, 20.54s/it]\u001b[A"
          ]
        },
        {
          "name": "stdout",
          "output_type": "stream",
          "text": [
            ".....Writing sample generated videos......\n"
          ]
        },
        {
          "name": "stderr",
          "output_type": "stream",
          "text": [
            "\n",
            " 63%|██████▎   | 31/49 [10:35<06:09, 20.53s/it]\u001b[A"
          ]
        },
        {
          "name": "stdout",
          "output_type": "stream",
          "text": [
            "Epoch 5/10 | Iter 30/49 | D 4.2799e-01 | G 2.9577e+00 | Real 0.78 | Fake 0.37\n"
          ]
        },
        {
          "name": "stderr",
          "output_type": "stream",
          "text": [
            "\n",
            " 65%|██████▌   | 32/49 [10:56<05:49, 20.53s/it]\u001b[A"
          ]
        },
        {
          "name": "stdout",
          "output_type": "stream",
          "text": [
            "Epoch 5/10 | Iter 31/49 | D 7.8137e-01 | G 1.5304e+00 | Real 0.40 | Fake 0.22\n"
          ]
        },
        {
          "name": "stderr",
          "output_type": "stream",
          "text": [
            "\n",
            " 67%|██████▋   | 33/49 [11:16<05:27, 20.49s/it]\u001b[A"
          ]
        },
        {
          "name": "stdout",
          "output_type": "stream",
          "text": [
            "Epoch 5/10 | Iter 32/49 | D 5.5655e-01 | G 3.3192e+00 | Real 0.78 | Fake 0.49\n"
          ]
        },
        {
          "name": "stderr",
          "output_type": "stream",
          "text": [
            "\n",
            " 69%|██████▉   | 34/49 [11:37<05:06, 20.46s/it]\u001b[A"
          ]
        },
        {
          "name": "stdout",
          "output_type": "stream",
          "text": [
            "Epoch 5/10 | Iter 33/49 | D 4.1499e-01 | G 3.0582e+00 | Real 0.65 | Fake 0.21\n"
          ]
        },
        {
          "name": "stderr",
          "output_type": "stream",
          "text": [
            "\n",
            " 71%|███████▏  | 35/49 [11:57<04:46, 20.45s/it]\u001b[A"
          ]
        },
        {
          "name": "stdout",
          "output_type": "stream",
          "text": [
            "Epoch 5/10 | Iter 34/49 | D 2.4020e-01 | G 2.4072e+00 | Real 0.78 | Fake 0.16\n"
          ]
        },
        {
          "name": "stderr",
          "output_type": "stream",
          "text": [
            "\n",
            " 73%|███████▎  | 36/49 [12:17<04:25, 20.46s/it]\u001b[A"
          ]
        },
        {
          "name": "stdout",
          "output_type": "stream",
          "text": [
            "Epoch 5/10 | Iter 35/49 | D 3.0714e-01 | G 3.5247e+00 | Real 0.89 | Fake 0.30\n"
          ]
        },
        {
          "name": "stderr",
          "output_type": "stream",
          "text": [
            "\n",
            " 76%|███████▌  | 37/49 [12:38<04:05, 20.43s/it]\u001b[A"
          ]
        },
        {
          "name": "stdout",
          "output_type": "stream",
          "text": [
            "Epoch 5/10 | Iter 36/49 | D 2.3776e-01 | G 3.6974e+00 | Real 0.88 | Fake 0.25\n"
          ]
        },
        {
          "name": "stderr",
          "output_type": "stream",
          "text": [
            "\n",
            " 78%|███████▊  | 38/49 [12:58<03:44, 20.45s/it]\u001b[A"
          ]
        },
        {
          "name": "stdout",
          "output_type": "stream",
          "text": [
            "Epoch 5/10 | Iter 37/49 | D 3.2331e-01 | G 3.2947e+00 | Real 0.86 | Fake 0.30\n"
          ]
        },
        {
          "name": "stderr",
          "output_type": "stream",
          "text": [
            "\n",
            " 80%|███████▉  | 39/49 [13:19<03:24, 20.46s/it]\u001b[A"
          ]
        },
        {
          "name": "stdout",
          "output_type": "stream",
          "text": [
            "Epoch 5/10 | Iter 38/49 | D 6.2129e-01 | G 2.5374e+00 | Real 0.60 | Fake 0.31\n",
            "Epoch 5/10 | Iter 39/49 | D 5.8986e-01 | G 3.6295e+00 | Real 0.71 | Fake 0.44\n",
            "Epoch 5/10 | Iter 39/49 | D 5.8986e-01 | G 3.6295e+00 | Real 0.71 | Fake 0.44\n"
          ]
        },
        {
          "name": "stderr",
          "output_type": "stream",
          "text": [
            "\n",
            " 82%|████████▏ | 40/49 [13:39<03:04, 20.54s/it]\u001b[A"
          ]
        },
        {
          "name": "stdout",
          "output_type": "stream",
          "text": [
            ".....Writing sample generated videos......\n"
          ]
        },
        {
          "name": "stderr",
          "output_type": "stream",
          "text": [
            "\n",
            " 84%|████████▎ | 41/49 [14:00<02:43, 20.46s/it]\u001b[A"
          ]
        },
        {
          "name": "stdout",
          "output_type": "stream",
          "text": [
            "Epoch 5/10 | Iter 40/49 | D 8.3009e-01 | G 2.5481e+00 | Real 0.42 | Fake 0.16\n"
          ]
        },
        {
          "name": "stderr",
          "output_type": "stream",
          "text": [
            "\n",
            " 86%|████████▌ | 42/49 [14:20<02:23, 20.52s/it]\u001b[A"
          ]
        },
        {
          "name": "stdout",
          "output_type": "stream",
          "text": [
            "Epoch 5/10 | Iter 41/49 | D 5.9960e-01 | G 1.6488e+00 | Real 0.62 | Fake 0.27\n"
          ]
        },
        {
          "name": "stderr",
          "output_type": "stream",
          "text": [
            "\n",
            " 88%|████████▊ | 43/49 [14:41<02:02, 20.49s/it]\u001b[A"
          ]
        },
        {
          "name": "stdout",
          "output_type": "stream",
          "text": [
            "Epoch 5/10 | Iter 42/49 | D 6.2254e-01 | G 2.5439e+00 | Real 0.82 | Fake 0.54\n"
          ]
        },
        {
          "name": "stderr",
          "output_type": "stream",
          "text": [
            "\n",
            " 90%|████████▉ | 44/49 [15:01<01:42, 20.44s/it]\u001b[A"
          ]
        },
        {
          "name": "stdout",
          "output_type": "stream",
          "text": [
            "Epoch 5/10 | Iter 43/49 | D 6.6352e-01 | G 2.3671e+00 | Real 0.52 | Fake 0.33\n"
          ]
        },
        {
          "name": "stderr",
          "output_type": "stream",
          "text": [
            "\n",
            " 92%|█████████▏| 45/49 [15:21<01:21, 20.38s/it]\u001b[A"
          ]
        },
        {
          "name": "stdout",
          "output_type": "stream",
          "text": [
            "Epoch 5/10 | Iter 44/49 | D 5.0870e-01 | G 2.7257e+00 | Real 0.78 | Fake 0.40\n"
          ]
        },
        {
          "name": "stderr",
          "output_type": "stream",
          "text": [
            "\n",
            " 94%|█████████▍| 46/49 [15:42<01:01, 20.40s/it]\u001b[A"
          ]
        },
        {
          "name": "stdout",
          "output_type": "stream",
          "text": [
            "Epoch 5/10 | Iter 45/49 | D 5.8496e-01 | G 2.9697e+00 | Real 0.61 | Fake 0.35\n"
          ]
        },
        {
          "name": "stderr",
          "output_type": "stream",
          "text": [
            "\n",
            " 96%|█████████▌| 47/49 [16:02<00:40, 20.45s/it]\u001b[A"
          ]
        },
        {
          "name": "stdout",
          "output_type": "stream",
          "text": [
            "Epoch 5/10 | Iter 46/49 | D 7.5578e-01 | G 2.1612e+00 | Real 0.49 | Fake 0.33\n"
          ]
        },
        {
          "name": "stderr",
          "output_type": "stream",
          "text": [
            "\n",
            " 98%|█████████▊| 48/49 [16:23<00:20, 20.45s/it]\u001b[A"
          ]
        },
        {
          "name": "stdout",
          "output_type": "stream",
          "text": [
            "Epoch 5/10 | Iter 47/49 | D 8.3626e-01 | G 1.7504e+00 | Real 0.47 | Fake 0.36\n",
            "Epoch 5/10 | Iter 48/49 | D 6.6677e-01 | G 3.9112e+00 | Real 0.79 | Fake 0.50\n",
            "Epoch 5/10 | Iter 48/49 | D 6.6677e-01 | G 3.9112e+00 | Real 0.79 | Fake 0.50\n"
          ]
        },
        {
          "name": "stderr",
          "output_type": "stream",
          "text": [
            "\n",
            "100%|██████████| 49/49 [16:44<00:00, 20.56s/it]\u001b[A\n",
            " 60%|██████    | 6/10 [1:41:18<1:07:20, 1010.02s/it]"
          ]
        },
        {
          "name": "stdout",
          "output_type": "stream",
          "text": [
            ".....Writing sample generated videos......\n"
          ]
        },
        {
          "name": "stderr",
          "output_type": "stream",
          "text": [
            "\n",
            "  0%|          | 0/49 [00:00<?, ?it/s]\u001b[A\n",
            "  2%|▏         | 1/49 [00:20<16:25, 20.54s/it]\u001b[A"
          ]
        },
        {
          "name": "stdout",
          "output_type": "stream",
          "text": [
            "Epoch 6/10 | Iter 0/49 | D 4.8252e-01 | G 2.5521e+00 | Real 0.49 | Fake 0.09\n"
          ]
        },
        {
          "name": "stderr",
          "output_type": "stream",
          "text": [
            "\n",
            "  4%|▍         | 2/49 [00:41<16:03, 20.51s/it]\u001b[A"
          ]
        },
        {
          "name": "stdout",
          "output_type": "stream",
          "text": [
            "Epoch 6/10 | Iter 1/49 | D 4.3294e-01 | G 1.0924e+00 | Real 0.65 | Fake 0.29\n"
          ]
        },
        {
          "name": "stderr",
          "output_type": "stream",
          "text": [
            "\n",
            "  6%|▌         | 3/49 [01:01<15:41, 20.47s/it]\u001b[A"
          ]
        },
        {
          "name": "stdout",
          "output_type": "stream",
          "text": [
            "Epoch 6/10 | Iter 2/49 | D 7.8254e-01 | G 2.3985e+00 | Real 0.65 | Fake 0.58\n"
          ]
        },
        {
          "name": "stderr",
          "output_type": "stream",
          "text": [
            "\n",
            "  8%|▊         | 4/49 [01:21<15:19, 20.43s/it]\u001b[A"
          ]
        },
        {
          "name": "stdout",
          "output_type": "stream",
          "text": [
            "Epoch 6/10 | Iter 3/49 | D 5.1617e-01 | G 3.1333e+00 | Real 0.71 | Fake 0.35\n"
          ]
        },
        {
          "name": "stderr",
          "output_type": "stream",
          "text": [
            "\n",
            " 10%|█         | 5/49 [01:42<14:56, 20.38s/it]\u001b[A"
          ]
        },
        {
          "name": "stdout",
          "output_type": "stream",
          "text": [
            "Epoch 6/10 | Iter 4/49 | D 5.3885e-01 | G 1.1504e+00 | Real 0.53 | Fake 0.18\n"
          ]
        },
        {
          "name": "stderr",
          "output_type": "stream",
          "text": [
            "\n",
            " 12%|█▏        | 6/49 [02:02<14:38, 20.42s/it]\u001b[A"
          ]
        },
        {
          "name": "stdout",
          "output_type": "stream",
          "text": [
            "Epoch 6/10 | Iter 5/49 | D 5.5293e-01 | G 3.1327e+00 | Real 0.87 | Fake 0.54\n"
          ]
        },
        {
          "name": "stderr",
          "output_type": "stream",
          "text": [
            "\n",
            " 14%|█▍        | 7/49 [02:23<14:18, 20.44s/it]\u001b[A"
          ]
        },
        {
          "name": "stdout",
          "output_type": "stream",
          "text": [
            "Epoch 6/10 | Iter 6/49 | D 4.6178e-01 | G 2.0127e+00 | Real 0.56 | Fake 0.12\n"
          ]
        },
        {
          "name": "stderr",
          "output_type": "stream",
          "text": [
            "\n",
            " 16%|█▋        | 8/49 [02:42<13:51, 20.27s/it]\u001b[A"
          ]
        },
        {
          "name": "stdout",
          "output_type": "stream",
          "text": [
            "Epoch 6/10 | Iter 7/49 | D 3.2917e-01 | G 3.1069e+00 | Real 0.87 | Fake 0.36\n"
          ]
        },
        {
          "name": "stderr",
          "output_type": "stream",
          "text": [
            "\n",
            " 18%|█▊        | 9/49 [03:03<13:33, 20.34s/it]\u001b[A"
          ]
        },
        {
          "name": "stdout",
          "output_type": "stream",
          "text": [
            "Epoch 6/10 | Iter 8/49 | D 3.3554e-01 | G 3.1297e+00 | Real 0.72 | Fake 0.18\n",
            "Epoch 6/10 | Iter 9/49 | D 1.8936e-01 | G 2.5774e+00 | Real 0.83 | Fake 0.14\n",
            "Epoch 6/10 | Iter 9/49 | D 1.8936e-01 | G 2.5774e+00 | Real 0.83 | Fake 0.14\n"
          ]
        },
        {
          "name": "stderr",
          "output_type": "stream",
          "text": [
            "\n",
            " 20%|██        | 10/49 [03:24<13:17, 20.45s/it]\u001b[A"
          ]
        },
        {
          "name": "stdout",
          "output_type": "stream",
          "text": [
            ".....Writing sample generated videos......\n"
          ]
        },
        {
          "name": "stderr",
          "output_type": "stream",
          "text": [
            "\n",
            " 22%|██▏       | 11/49 [03:44<12:56, 20.45s/it]\u001b[A"
          ]
        },
        {
          "name": "stdout",
          "output_type": "stream",
          "text": [
            "Epoch 6/10 | Iter 10/49 | D 7.7657e-01 | G 9.0165e-01 | Real 0.40 | Fake 0.32\n"
          ]
        },
        {
          "name": "stderr",
          "output_type": "stream",
          "text": [
            "\n",
            " 24%|██▍       | 12/49 [04:05<12:35, 20.43s/it]\u001b[A"
          ]
        },
        {
          "name": "stdout",
          "output_type": "stream",
          "text": [
            "Epoch 6/10 | Iter 11/49 | D 7.8816e-01 | G 3.8147e+00 | Real 0.95 | Fake 0.67\n"
          ]
        },
        {
          "name": "stderr",
          "output_type": "stream",
          "text": [
            "\n",
            " 27%|██▋       | 13/49 [04:25<12:15, 20.44s/it]\u001b[A"
          ]
        },
        {
          "name": "stdout",
          "output_type": "stream",
          "text": [
            "Epoch 6/10 | Iter 12/49 | D 1.0607e+00 | G 5.7983e-01 | Real 0.32 | Fake 0.16\n"
          ]
        },
        {
          "name": "stderr",
          "output_type": "stream",
          "text": [
            "\n",
            " 29%|██▊       | 14/49 [04:45<11:55, 20.44s/it]\u001b[A"
          ]
        },
        {
          "name": "stdout",
          "output_type": "stream",
          "text": [
            "Epoch 6/10 | Iter 13/49 | D 1.0365e+00 | G 4.8117e+00 | Real 0.91 | Fake 0.81\n"
          ]
        }
      ],
      "source": [
        "if not os.path.exists(\"./checkpoints\"):\n",
        "        os.makedirs(\"./checkpoints\")\n",
        "if not os.path.exists(\"./genvideos\"):\n",
        "    os.makedirs(\"./genvideos\")\n",
        "\n",
        "\n",
        "# Model def\n",
        "G = Generator(zdim=zd).cuda()\n",
        "D = Discriminator().cuda()\n",
        "\n",
        "# Optimizer\n",
        "params_G = list(filter(lambda p: p.requires_grad, G.parameters()))\n",
        "optimizer_G = optim.Adam(params_G, lr=0.0002, betas=(0.5,0.999))\n",
        "params_D = list(filter(lambda p: p.requires_grad, D.parameters()))\n",
        "optimizer_D = optim.Adam(params_D, lr=0.0002, betas=(0.5,0.999))\n",
        "\n",
        "# Load pretrained\n",
        "if c is not None:\n",
        "    G.load_state_dict(torch.load(\"./checkpoints/{}_G.pth\".format(c)).state_dict(), strict=True)\n",
        "    D.load_state_dict(torch.load(\"./checkpoints/{}_D.pth\".format(c)).state_dict(), strict=True)\n",
        "    print(\"Model restored\")\n",
        "\n",
        "# Train\n",
        "# data file list\n",
        "data_files = glob.glob(\"/content/drive/MyDrive/data/*\")\n",
        "print_count = int(len(data_files)/nb)\n",
        "print(print_count)\n",
        "gs = []\n",
        "ds = []\n",
        "\n",
        "for epoch in tqdm(range(epochs), position=0, leave=False):\n",
        "    for counter in tqdm(range(print_count), position=1, leave=False):\n",
        "        batch_files = data_files[counter*nb:(counter+1)*nb]\n",
        "        video = read_and_process_video(batch_files,nb,32)\n",
        "        real_video = Variable(torch.from_numpy(video.astype(np.float32).transpose((0,4,1,2,3))), requires_grad=True).cuda()\n",
        "        # D\n",
        "        noise = torch.from_numpy(np.random.normal(0, 1, size=[nb,zd]).astype(np.float32)).cuda()\n",
        "        with torch.no_grad():\n",
        "            fake_video, f, b, m = G(noise)\n",
        "\n",
        "        logit_real = D(real_video)\n",
        "        logit_fake = D(fake_video.detach())\n",
        "\n",
        "        prob_real = torch.mean(torch.sigmoid(logit_real))\n",
        "        prob_fake = torch.mean(torch.sigmoid(logit_fake))\n",
        "\n",
        "        loss_real = F.binary_cross_entropy_with_logits(logit_real, torch.ones_like(logit_real))\n",
        "        loss_fake = F.binary_cross_entropy_with_logits(logit_fake, torch.zeros_like(logit_fake))\n",
        "        loss_D = torch.mean(torch.stack([loss_real, loss_fake]))\n",
        "        ds.append(loss_D.cpu().data.numpy())\n",
        "\n",
        "\n",
        "        optimizer_D.zero_grad()\n",
        "        loss_D.backward()\n",
        "        optimizer_D.step()\n",
        "\n",
        "        # G\n",
        "        noise = torch.from_numpy(np.random.normal(0, 1, size=[nb,zd]).astype(np.float32)).cuda()\n",
        "        gen_video, f, b, m = G(noise)\n",
        "\n",
        "        logit_gen = D(gen_video)\n",
        "\n",
        "        loss_gen = F.binary_cross_entropy_with_logits(logit_gen, torch.ones_like(logit_gen))\n",
        "        loss_G = torch.mean(torch.stack([loss_gen])) + l*F.l1_loss(m, torch.zeros_like(m), True, True)\n",
        "        gs.append(loss_G.cpu().data.numpy())\n",
        "\n",
        "        optimizer_G.zero_grad()\n",
        "        loss_G.backward()\n",
        "        optimizer_G.step()\n",
        "\n",
        "        # Print status\n",
        "        print(\"Epoch {:d}/{:d} | Iter {:d}/{:d} | D {:.4e} | G {:.4e} | Real {:.2f} | Fake {:.2f}\".format(epoch, epochs, counter, print_count, loss_D, loss_G, prob_real, prob_fake))\n",
        "\n",
        "        process_and_write_video(gen_video[0:1].cpu().data.numpy(), \"curr_video\")\n",
        "        process_and_write_image(b.cpu().data.numpy(), \"curr_bg\")\n",
        "\n",
        "        if np.mod(counter + 1, 10) == 0 or counter == print_count-1:\n",
        "            print(\"Epoch {:d}/{:d} | Iter {:d}/{:d} | D {:.4e} | G {:.4e} | Real {:.2f} | Fake {:.2f}\".format(epoch, epochs, counter, print_count, loss_D, loss_G, prob_real, prob_fake))\n",
        "            process_and_write_video(gen_video[0:1].cpu().data.numpy(), \"epoch{}_iter{}_video\".format(epoch, counter))\n",
        "            process_and_write_image(b.cpu().data.numpy(), \"epoch{}_iter{}_bg\".format(epoch, counter))\n",
        "            print (\".....Writing sample generated videos......\")"
      ]
    },
    {
      "cell_type": "code",
      "execution_count": null,
      "metadata": {
        "id": "zyVX10DVqa2W"
      },
      "outputs": [],
      "source": [
        "plot_history(gs, print_count*epochs, 'VideoGAN', 'Generator Loss')\n",
        "plot_history(ds, print_count*epochs, 'VideoGAN', 'Discriminator Loss')\n",
        "print(gs, ds)"
      ]
    }
  ],
  "metadata": {
    "accelerator": "GPU",
    "colab": {
      "provenance": []
    },
    "gpuClass": "standard",
    "kernelspec": {
      "display_name": "Python 3",
      "name": "python3"
    },
    "language_info": {
      "name": "python"
    }
  },
  "nbformat": 4,
  "nbformat_minor": 0
}
